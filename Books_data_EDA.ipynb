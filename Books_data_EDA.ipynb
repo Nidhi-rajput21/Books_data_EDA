{
  "nbformat": 4,
  "nbformat_minor": 0,
  "metadata": {
    "colab": {
      "provenance": []
    },
    "kernelspec": {
      "name": "python3",
      "display_name": "Python 3"
    },
    "language_info": {
      "name": "python"
    }
  },
  "cells": [
    {
      "cell_type": "markdown",
      "source": [
        "## Import required libraries"
      ],
      "metadata": {
        "id": "Z1Ri701cuOm6"
      }
    },
    {
      "cell_type": "code",
      "execution_count": 103,
      "metadata": {
        "id": "jX8TpsQ8BH7U"
      },
      "outputs": [],
      "source": [
        "import pandas as pd\n",
        "import matplotlib.pyplot as plt\n",
        "import seaborn as sns"
      ]
    },
    {
      "cell_type": "markdown",
      "source": [
        "## Import the dataset"
      ],
      "metadata": {
        "id": "T6z3E-KbuIyR"
      }
    },
    {
      "cell_type": "code",
      "source": [
        "df = pd.read_csv('/content/Books_Data_Clean.csv')\n",
        "df.head()"
      ],
      "metadata": {
        "colab": {
          "base_uri": "https://localhost:8080/",
          "height": 469
        },
        "id": "DDeWG_3TB2VO",
        "outputId": "7da73cad-12f6-47f7-fdca-9916ceefe935"
      },
      "execution_count": 104,
      "outputs": [
        {
          "output_type": "execute_result",
          "data": {
            "text/plain": [
              "   index  Publishing Year                        Book Name  \\\n",
              "0      0           1975.0                          Beowulf   \n",
              "1      1           1987.0                 Batman: Year One   \n",
              "2      2           2015.0                Go Set a Watchman   \n",
              "3      3           2008.0  When You Are Engulfed in Flames   \n",
              "4      4           2011.0         Daughter of Smoke & Bone   \n",
              "\n",
              "                                              Author language_code  \\\n",
              "0                             Unknown, Seamus Heaney         en-US   \n",
              "1  Frank Miller, David Mazzucchelli, Richmond Lew...           eng   \n",
              "2                                         Harper Lee           eng   \n",
              "3                                      David Sedaris         en-US   \n",
              "4                                       Laini Taylor           eng   \n",
              "\n",
              "  Author_Rating  Book_average_rating  Book_ratings_count          genre  \\\n",
              "0        Novice                 3.42              155903  genre fiction   \n",
              "1  Intermediate                 4.23              145267  genre fiction   \n",
              "2        Novice                 3.31              138669  genre fiction   \n",
              "3  Intermediate                 4.04              150898        fiction   \n",
              "4  Intermediate                 4.04              198283  genre fiction   \n",
              "\n",
              "   gross sales  publisher revenue  sale price  sales rank  \\\n",
              "0      34160.0            20496.0        4.88           1   \n",
              "1      12437.5             7462.5        1.99           2   \n",
              "2      47795.0            28677.0        8.69           3   \n",
              "3      41250.0            24750.0        7.50           3   \n",
              "4      37952.5            22771.5        7.99           4   \n",
              "\n",
              "                       Publisher   units sold  \n",
              "0        HarperCollins Publishers        7000  \n",
              "1        HarperCollins Publishers        6250  \n",
              "2  Amazon Digital Services,  Inc.        5500  \n",
              "3             Hachette Book Group        5500  \n",
              "4         Penguin Group (USA) LLC        4750  "
            ],
            "text/html": [
              "\n",
              "  <div id=\"df-c54d3120-c90d-4c1d-acf6-58beba95fd94\" class=\"colab-df-container\">\n",
              "    <div>\n",
              "<style scoped>\n",
              "    .dataframe tbody tr th:only-of-type {\n",
              "        vertical-align: middle;\n",
              "    }\n",
              "\n",
              "    .dataframe tbody tr th {\n",
              "        vertical-align: top;\n",
              "    }\n",
              "\n",
              "    .dataframe thead th {\n",
              "        text-align: right;\n",
              "    }\n",
              "</style>\n",
              "<table border=\"1\" class=\"dataframe\">\n",
              "  <thead>\n",
              "    <tr style=\"text-align: right;\">\n",
              "      <th></th>\n",
              "      <th>index</th>\n",
              "      <th>Publishing Year</th>\n",
              "      <th>Book Name</th>\n",
              "      <th>Author</th>\n",
              "      <th>language_code</th>\n",
              "      <th>Author_Rating</th>\n",
              "      <th>Book_average_rating</th>\n",
              "      <th>Book_ratings_count</th>\n",
              "      <th>genre</th>\n",
              "      <th>gross sales</th>\n",
              "      <th>publisher revenue</th>\n",
              "      <th>sale price</th>\n",
              "      <th>sales rank</th>\n",
              "      <th>Publisher</th>\n",
              "      <th>units sold</th>\n",
              "    </tr>\n",
              "  </thead>\n",
              "  <tbody>\n",
              "    <tr>\n",
              "      <th>0</th>\n",
              "      <td>0</td>\n",
              "      <td>1975.0</td>\n",
              "      <td>Beowulf</td>\n",
              "      <td>Unknown, Seamus Heaney</td>\n",
              "      <td>en-US</td>\n",
              "      <td>Novice</td>\n",
              "      <td>3.42</td>\n",
              "      <td>155903</td>\n",
              "      <td>genre fiction</td>\n",
              "      <td>34160.0</td>\n",
              "      <td>20496.0</td>\n",
              "      <td>4.88</td>\n",
              "      <td>1</td>\n",
              "      <td>HarperCollins Publishers</td>\n",
              "      <td>7000</td>\n",
              "    </tr>\n",
              "    <tr>\n",
              "      <th>1</th>\n",
              "      <td>1</td>\n",
              "      <td>1987.0</td>\n",
              "      <td>Batman: Year One</td>\n",
              "      <td>Frank Miller, David Mazzucchelli, Richmond Lew...</td>\n",
              "      <td>eng</td>\n",
              "      <td>Intermediate</td>\n",
              "      <td>4.23</td>\n",
              "      <td>145267</td>\n",
              "      <td>genre fiction</td>\n",
              "      <td>12437.5</td>\n",
              "      <td>7462.5</td>\n",
              "      <td>1.99</td>\n",
              "      <td>2</td>\n",
              "      <td>HarperCollins Publishers</td>\n",
              "      <td>6250</td>\n",
              "    </tr>\n",
              "    <tr>\n",
              "      <th>2</th>\n",
              "      <td>2</td>\n",
              "      <td>2015.0</td>\n",
              "      <td>Go Set a Watchman</td>\n",
              "      <td>Harper Lee</td>\n",
              "      <td>eng</td>\n",
              "      <td>Novice</td>\n",
              "      <td>3.31</td>\n",
              "      <td>138669</td>\n",
              "      <td>genre fiction</td>\n",
              "      <td>47795.0</td>\n",
              "      <td>28677.0</td>\n",
              "      <td>8.69</td>\n",
              "      <td>3</td>\n",
              "      <td>Amazon Digital Services,  Inc.</td>\n",
              "      <td>5500</td>\n",
              "    </tr>\n",
              "    <tr>\n",
              "      <th>3</th>\n",
              "      <td>3</td>\n",
              "      <td>2008.0</td>\n",
              "      <td>When You Are Engulfed in Flames</td>\n",
              "      <td>David Sedaris</td>\n",
              "      <td>en-US</td>\n",
              "      <td>Intermediate</td>\n",
              "      <td>4.04</td>\n",
              "      <td>150898</td>\n",
              "      <td>fiction</td>\n",
              "      <td>41250.0</td>\n",
              "      <td>24750.0</td>\n",
              "      <td>7.50</td>\n",
              "      <td>3</td>\n",
              "      <td>Hachette Book Group</td>\n",
              "      <td>5500</td>\n",
              "    </tr>\n",
              "    <tr>\n",
              "      <th>4</th>\n",
              "      <td>4</td>\n",
              "      <td>2011.0</td>\n",
              "      <td>Daughter of Smoke &amp; Bone</td>\n",
              "      <td>Laini Taylor</td>\n",
              "      <td>eng</td>\n",
              "      <td>Intermediate</td>\n",
              "      <td>4.04</td>\n",
              "      <td>198283</td>\n",
              "      <td>genre fiction</td>\n",
              "      <td>37952.5</td>\n",
              "      <td>22771.5</td>\n",
              "      <td>7.99</td>\n",
              "      <td>4</td>\n",
              "      <td>Penguin Group (USA) LLC</td>\n",
              "      <td>4750</td>\n",
              "    </tr>\n",
              "  </tbody>\n",
              "</table>\n",
              "</div>\n",
              "    <div class=\"colab-df-buttons\">\n",
              "\n",
              "  <div class=\"colab-df-container\">\n",
              "    <button class=\"colab-df-convert\" onclick=\"convertToInteractive('df-c54d3120-c90d-4c1d-acf6-58beba95fd94')\"\n",
              "            title=\"Convert this dataframe to an interactive table.\"\n",
              "            style=\"display:none;\">\n",
              "\n",
              "  <svg xmlns=\"http://www.w3.org/2000/svg\" height=\"24px\" viewBox=\"0 -960 960 960\">\n",
              "    <path d=\"M120-120v-720h720v720H120Zm60-500h600v-160H180v160Zm220 220h160v-160H400v160Zm0 220h160v-160H400v160ZM180-400h160v-160H180v160Zm440 0h160v-160H620v160ZM180-180h160v-160H180v160Zm440 0h160v-160H620v160Z\"/>\n",
              "  </svg>\n",
              "    </button>\n",
              "\n",
              "  <style>\n",
              "    .colab-df-container {\n",
              "      display:flex;\n",
              "      gap: 12px;\n",
              "    }\n",
              "\n",
              "    .colab-df-convert {\n",
              "      background-color: #E8F0FE;\n",
              "      border: none;\n",
              "      border-radius: 50%;\n",
              "      cursor: pointer;\n",
              "      display: none;\n",
              "      fill: #1967D2;\n",
              "      height: 32px;\n",
              "      padding: 0 0 0 0;\n",
              "      width: 32px;\n",
              "    }\n",
              "\n",
              "    .colab-df-convert:hover {\n",
              "      background-color: #E2EBFA;\n",
              "      box-shadow: 0px 1px 2px rgba(60, 64, 67, 0.3), 0px 1px 3px 1px rgba(60, 64, 67, 0.15);\n",
              "      fill: #174EA6;\n",
              "    }\n",
              "\n",
              "    .colab-df-buttons div {\n",
              "      margin-bottom: 4px;\n",
              "    }\n",
              "\n",
              "    [theme=dark] .colab-df-convert {\n",
              "      background-color: #3B4455;\n",
              "      fill: #D2E3FC;\n",
              "    }\n",
              "\n",
              "    [theme=dark] .colab-df-convert:hover {\n",
              "      background-color: #434B5C;\n",
              "      box-shadow: 0px 1px 3px 1px rgba(0, 0, 0, 0.15);\n",
              "      filter: drop-shadow(0px 1px 2px rgba(0, 0, 0, 0.3));\n",
              "      fill: #FFFFFF;\n",
              "    }\n",
              "  </style>\n",
              "\n",
              "    <script>\n",
              "      const buttonEl =\n",
              "        document.querySelector('#df-c54d3120-c90d-4c1d-acf6-58beba95fd94 button.colab-df-convert');\n",
              "      buttonEl.style.display =\n",
              "        google.colab.kernel.accessAllowed ? 'block' : 'none';\n",
              "\n",
              "      async function convertToInteractive(key) {\n",
              "        const element = document.querySelector('#df-c54d3120-c90d-4c1d-acf6-58beba95fd94');\n",
              "        const dataTable =\n",
              "          await google.colab.kernel.invokeFunction('convertToInteractive',\n",
              "                                                    [key], {});\n",
              "        if (!dataTable) return;\n",
              "\n",
              "        const docLinkHtml = 'Like what you see? Visit the ' +\n",
              "          '<a target=\"_blank\" href=https://colab.research.google.com/notebooks/data_table.ipynb>data table notebook</a>'\n",
              "          + ' to learn more about interactive tables.';\n",
              "        element.innerHTML = '';\n",
              "        dataTable['output_type'] = 'display_data';\n",
              "        await google.colab.output.renderOutput(dataTable, element);\n",
              "        const docLink = document.createElement('div');\n",
              "        docLink.innerHTML = docLinkHtml;\n",
              "        element.appendChild(docLink);\n",
              "      }\n",
              "    </script>\n",
              "  </div>\n",
              "\n",
              "\n",
              "    <div id=\"df-71c97a2c-d932-4829-a0d4-fbc2b8d015eb\">\n",
              "      <button class=\"colab-df-quickchart\" onclick=\"quickchart('df-71c97a2c-d932-4829-a0d4-fbc2b8d015eb')\"\n",
              "                title=\"Suggest charts\"\n",
              "                style=\"display:none;\">\n",
              "\n",
              "<svg xmlns=\"http://www.w3.org/2000/svg\" height=\"24px\"viewBox=\"0 0 24 24\"\n",
              "     width=\"24px\">\n",
              "    <g>\n",
              "        <path d=\"M19 3H5c-1.1 0-2 .9-2 2v14c0 1.1.9 2 2 2h14c1.1 0 2-.9 2-2V5c0-1.1-.9-2-2-2zM9 17H7v-7h2v7zm4 0h-2V7h2v10zm4 0h-2v-4h2v4z\"/>\n",
              "    </g>\n",
              "</svg>\n",
              "      </button>\n",
              "\n",
              "<style>\n",
              "  .colab-df-quickchart {\n",
              "      --bg-color: #E8F0FE;\n",
              "      --fill-color: #1967D2;\n",
              "      --hover-bg-color: #E2EBFA;\n",
              "      --hover-fill-color: #174EA6;\n",
              "      --disabled-fill-color: #AAA;\n",
              "      --disabled-bg-color: #DDD;\n",
              "  }\n",
              "\n",
              "  [theme=dark] .colab-df-quickchart {\n",
              "      --bg-color: #3B4455;\n",
              "      --fill-color: #D2E3FC;\n",
              "      --hover-bg-color: #434B5C;\n",
              "      --hover-fill-color: #FFFFFF;\n",
              "      --disabled-bg-color: #3B4455;\n",
              "      --disabled-fill-color: #666;\n",
              "  }\n",
              "\n",
              "  .colab-df-quickchart {\n",
              "    background-color: var(--bg-color);\n",
              "    border: none;\n",
              "    border-radius: 50%;\n",
              "    cursor: pointer;\n",
              "    display: none;\n",
              "    fill: var(--fill-color);\n",
              "    height: 32px;\n",
              "    padding: 0;\n",
              "    width: 32px;\n",
              "  }\n",
              "\n",
              "  .colab-df-quickchart:hover {\n",
              "    background-color: var(--hover-bg-color);\n",
              "    box-shadow: 0 1px 2px rgba(60, 64, 67, 0.3), 0 1px 3px 1px rgba(60, 64, 67, 0.15);\n",
              "    fill: var(--button-hover-fill-color);\n",
              "  }\n",
              "\n",
              "  .colab-df-quickchart-complete:disabled,\n",
              "  .colab-df-quickchart-complete:disabled:hover {\n",
              "    background-color: var(--disabled-bg-color);\n",
              "    fill: var(--disabled-fill-color);\n",
              "    box-shadow: none;\n",
              "  }\n",
              "\n",
              "  .colab-df-spinner {\n",
              "    border: 2px solid var(--fill-color);\n",
              "    border-color: transparent;\n",
              "    border-bottom-color: var(--fill-color);\n",
              "    animation:\n",
              "      spin 1s steps(1) infinite;\n",
              "  }\n",
              "\n",
              "  @keyframes spin {\n",
              "    0% {\n",
              "      border-color: transparent;\n",
              "      border-bottom-color: var(--fill-color);\n",
              "      border-left-color: var(--fill-color);\n",
              "    }\n",
              "    20% {\n",
              "      border-color: transparent;\n",
              "      border-left-color: var(--fill-color);\n",
              "      border-top-color: var(--fill-color);\n",
              "    }\n",
              "    30% {\n",
              "      border-color: transparent;\n",
              "      border-left-color: var(--fill-color);\n",
              "      border-top-color: var(--fill-color);\n",
              "      border-right-color: var(--fill-color);\n",
              "    }\n",
              "    40% {\n",
              "      border-color: transparent;\n",
              "      border-right-color: var(--fill-color);\n",
              "      border-top-color: var(--fill-color);\n",
              "    }\n",
              "    60% {\n",
              "      border-color: transparent;\n",
              "      border-right-color: var(--fill-color);\n",
              "    }\n",
              "    80% {\n",
              "      border-color: transparent;\n",
              "      border-right-color: var(--fill-color);\n",
              "      border-bottom-color: var(--fill-color);\n",
              "    }\n",
              "    90% {\n",
              "      border-color: transparent;\n",
              "      border-bottom-color: var(--fill-color);\n",
              "    }\n",
              "  }\n",
              "</style>\n",
              "\n",
              "      <script>\n",
              "        async function quickchart(key) {\n",
              "          const quickchartButtonEl =\n",
              "            document.querySelector('#' + key + ' button');\n",
              "          quickchartButtonEl.disabled = true;  // To prevent multiple clicks.\n",
              "          quickchartButtonEl.classList.add('colab-df-spinner');\n",
              "          try {\n",
              "            const charts = await google.colab.kernel.invokeFunction(\n",
              "                'suggestCharts', [key], {});\n",
              "          } catch (error) {\n",
              "            console.error('Error during call to suggestCharts:', error);\n",
              "          }\n",
              "          quickchartButtonEl.classList.remove('colab-df-spinner');\n",
              "          quickchartButtonEl.classList.add('colab-df-quickchart-complete');\n",
              "        }\n",
              "        (() => {\n",
              "          let quickchartButtonEl =\n",
              "            document.querySelector('#df-71c97a2c-d932-4829-a0d4-fbc2b8d015eb button');\n",
              "          quickchartButtonEl.style.display =\n",
              "            google.colab.kernel.accessAllowed ? 'block' : 'none';\n",
              "        })();\n",
              "      </script>\n",
              "    </div>\n",
              "\n",
              "    </div>\n",
              "  </div>\n"
            ],
            "application/vnd.google.colaboratory.intrinsic+json": {
              "type": "dataframe",
              "variable_name": "df",
              "summary": "{\n  \"name\": \"df\",\n  \"rows\": 1070,\n  \"fields\": [\n    {\n      \"column\": \"index\",\n      \"properties\": {\n        \"dtype\": \"number\",\n        \"std\": 309,\n        \"min\": 0,\n        \"max\": 1069,\n        \"num_unique_values\": 1070,\n        \"samples\": [\n          644,\n          629,\n          70\n        ],\n        \"semantic_type\": \"\",\n        \"description\": \"\"\n      }\n    },\n    {\n      \"column\": \"Publishing Year\",\n      \"properties\": {\n        \"dtype\": \"number\",\n        \"std\": 185.08025721167792,\n        \"min\": -560.0,\n        \"max\": 2016.0,\n        \"num_unique_values\": 150,\n        \"samples\": [\n          1603.0,\n          2000.0,\n          1874.0\n        ],\n        \"semantic_type\": \"\",\n        \"description\": \"\"\n      }\n    },\n    {\n      \"column\": \"Book Name\",\n      \"properties\": {\n        \"dtype\": \"string\",\n        \"num_unique_values\": 1045,\n        \"samples\": [\n          \"Drowning Ruth\",\n          \"Howl's Moving Castle\",\n          \"The Birth of Venus\"\n        ],\n        \"semantic_type\": \"\",\n        \"description\": \"\"\n      }\n    },\n    {\n      \"column\": \"Author\",\n      \"properties\": {\n        \"dtype\": \"string\",\n        \"num_unique_values\": 735,\n        \"samples\": [\n          \"Christopher Hitchens\",\n          \"Vanessa Diffenbaugh\",\n          \"Astrid Lindgren, Lauren Child, Florence Lamborn, Nancy Seligsohn\"\n        ],\n        \"semantic_type\": \"\",\n        \"description\": \"\"\n      }\n    },\n    {\n      \"column\": \"language_code\",\n      \"properties\": {\n        \"dtype\": \"category\",\n        \"num_unique_values\": 8,\n        \"samples\": [\n          \"eng\",\n          \"en-CA\",\n          \"en-US\"\n        ],\n        \"semantic_type\": \"\",\n        \"description\": \"\"\n      }\n    },\n    {\n      \"column\": \"Author_Rating\",\n      \"properties\": {\n        \"dtype\": \"category\",\n        \"num_unique_values\": 4,\n        \"samples\": [\n          \"Intermediate\",\n          \"Excellent\",\n          \"Novice\"\n        ],\n        \"semantic_type\": \"\",\n        \"description\": \"\"\n      }\n    },\n    {\n      \"column\": \"Book_average_rating\",\n      \"properties\": {\n        \"dtype\": \"number\",\n        \"std\": 0.24724387206390464,\n        \"min\": 2.97,\n        \"max\": 4.77,\n        \"num_unique_values\": 134,\n        \"samples\": [\n          3.53,\n          3.73,\n          4.59\n        ],\n        \"semantic_type\": \"\",\n        \"description\": \"\"\n      }\n    },\n    {\n      \"column\": \"Book_ratings_count\",\n      \"properties\": {\n        \"dtype\": \"number\",\n        \"std\": 31513,\n        \"min\": 27308,\n        \"max\": 206792,\n        \"num_unique_values\": 1064,\n        \"samples\": [\n          144822,\n          75987,\n          119735\n        ],\n        \"semantic_type\": \"\",\n        \"description\": \"\"\n      }\n    },\n    {\n      \"column\": \"genre\",\n      \"properties\": {\n        \"dtype\": \"category\",\n        \"num_unique_values\": 4,\n        \"samples\": [\n          \"fiction\",\n          \"children\",\n          \"genre fiction\"\n        ],\n        \"semantic_type\": \"\",\n        \"description\": \"\"\n      }\n    },\n    {\n      \"column\": \"gross sales\",\n      \"properties\": {\n        \"dtype\": \"number\",\n        \"std\": 3936.9242404502725,\n        \"min\": 104.94,\n        \"max\": 47795.0,\n        \"num_unique_values\": 831,\n        \"samples\": [\n          486.78,\n          477.0,\n          891.02\n        ],\n        \"semantic_type\": \"\",\n        \"description\": \"\"\n      }\n    },\n    {\n      \"column\": \"publisher revenue\",\n      \"properties\": {\n        \"dtype\": \"number\",\n        \"std\": 2257.596743156442,\n        \"min\": 0.0,\n        \"max\": 28677.0,\n        \"num_unique_values\": 610,\n        \"samples\": [\n          943.26,\n          141.966,\n          4131.534\n        ],\n        \"semantic_type\": \"\",\n        \"description\": \"\"\n      }\n    },\n    {\n      \"column\": \"sale price\",\n      \"properties\": {\n        \"dtype\": \"number\",\n        \"std\": 3.559919262802466,\n        \"min\": 0.99,\n        \"max\": 33.86,\n        \"num_unique_values\": 149,\n        \"samples\": [\n          9.56,\n          11.39,\n          8.98\n        ],\n        \"semantic_type\": \"\",\n        \"description\": \"\"\n      }\n    },\n    {\n      \"column\": \"sales rank\",\n      \"properties\": {\n        \"dtype\": \"number\",\n        \"std\": 369,\n        \"min\": 1,\n        \"max\": 1273,\n        \"num_unique_values\": 865,\n        \"samples\": [\n          266,\n          1046,\n          915\n        ],\n        \"semantic_type\": \"\",\n        \"description\": \"\"\n      }\n    },\n    {\n      \"column\": \"Publisher \",\n      \"properties\": {\n        \"dtype\": \"category\",\n        \"num_unique_values\": 9,\n        \"samples\": [\n          \"HarperCollins Publishing\",\n          \"Amazon Digital Services,  Inc.\",\n          \"Simon and Schuster Digital Sales Inc\"\n        ],\n        \"semantic_type\": \"\",\n        \"description\": \"\"\n      }\n    },\n    {\n      \"column\": \"units sold\",\n      \"properties\": {\n        \"dtype\": \"number\",\n        \"std\": 15370,\n        \"min\": 106,\n        \"max\": 61560,\n        \"num_unique_values\": 491,\n        \"samples\": [\n          33696,\n          975,\n          37584\n        ],\n        \"semantic_type\": \"\",\n        \"description\": \"\"\n      }\n    }\n  ]\n}"
            }
          },
          "metadata": {},
          "execution_count": 104
        }
      ]
    },
    {
      "cell_type": "markdown",
      "source": [
        "# ABOUT\n",
        "The file Books_Data_Clean.csv contains comprehensive information on book sales, ratings, and genres, including publishing year, author details, ratings, sales performance data, and genre classification\n",
        "\n",
        "* Publishing Year: The year in which the book was published. (Numeric)\n",
        "* Book Name: The title of the book. (Text)\n",
        "* Author: The name of the author of the book. (Text)\n",
        "* language_code: The code representing the language in which the book is written. (Text)\n",
        "* Author_Rating: The rating of the author based on their previous works. (Numeric)\n",
        "* Book_average_rating: The average rating given to the book by readers. (Numeric)\n",
        "* Book_ratings_count: The number of ratings given to the book by readers. (Numeric)\n",
        "* genre: The genre or category to which the book belongs. (Text)\n",
        "* gross sales: The total sales revenue generated by a specific book. (Numeric)\n",
        "* publisher revenue: The revenue earned by a publisher from selling a specific book. (Numeric)\n",
        "* sale price: The price at which a specific book was sold. (Numeric)\n",
        "* sales rank: The rank of a particular book based on its sale performance. (Numeric)\n",
        "* units sold: The number of units sold for any particular book. (Numeric)"
      ],
      "metadata": {
        "id": "Cq8B6Z2DCqKb"
      }
    },
    {
      "cell_type": "code",
      "source": [
        "df.describe()"
      ],
      "metadata": {
        "colab": {
          "base_uri": "https://localhost:8080/",
          "height": 317
        },
        "id": "yQ3q9uEzCEUl",
        "outputId": "aa5484fa-f5e9-4fe2-e299-baa3df0f7e28"
      },
      "execution_count": 105,
      "outputs": [
        {
          "output_type": "execute_result",
          "data": {
            "text/plain": [
              "             index  Publishing Year  Book_average_rating  Book_ratings_count  \\\n",
              "count  1070.000000      1069.000000          1070.000000         1070.000000   \n",
              "mean    534.500000      1971.377923             4.007000        94909.913084   \n",
              "std     309.026698       185.080257             0.247244        31513.242518   \n",
              "min       0.000000      -560.000000             2.970000        27308.000000   \n",
              "25%     267.250000      1985.000000             3.850000        70398.000000   \n",
              "50%     534.500000      2003.000000             4.015000        89309.000000   \n",
              "75%     801.750000      2010.000000             4.170000       113906.500000   \n",
              "max    1069.000000      2016.000000             4.770000       206792.000000   \n",
              "\n",
              "        gross sales  publisher revenue   sale price   sales rank    units sold  \n",
              "count   1070.000000        1070.000000  1070.000000  1070.000000   1070.000000  \n",
              "mean    1856.622944         843.281030     4.869561   611.652336   9676.980374  \n",
              "std     3936.924240        2257.596743     3.559919   369.849830  15370.571306  \n",
              "min      104.940000           0.000000     0.990000     1.000000    106.000000  \n",
              "25%      372.465000           0.000000     1.990000   287.500000    551.250000  \n",
              "50%      809.745000         273.078000     3.990000   595.500000   3924.000000  \n",
              "75%     1487.957500         721.180500     6.990000   932.500000   5312.250000  \n",
              "max    47795.000000       28677.000000    33.860000  1273.000000  61560.000000  "
            ],
            "text/html": [
              "\n",
              "  <div id=\"df-42ec507f-f046-4339-8e04-3b8e2ad9362d\" class=\"colab-df-container\">\n",
              "    <div>\n",
              "<style scoped>\n",
              "    .dataframe tbody tr th:only-of-type {\n",
              "        vertical-align: middle;\n",
              "    }\n",
              "\n",
              "    .dataframe tbody tr th {\n",
              "        vertical-align: top;\n",
              "    }\n",
              "\n",
              "    .dataframe thead th {\n",
              "        text-align: right;\n",
              "    }\n",
              "</style>\n",
              "<table border=\"1\" class=\"dataframe\">\n",
              "  <thead>\n",
              "    <tr style=\"text-align: right;\">\n",
              "      <th></th>\n",
              "      <th>index</th>\n",
              "      <th>Publishing Year</th>\n",
              "      <th>Book_average_rating</th>\n",
              "      <th>Book_ratings_count</th>\n",
              "      <th>gross sales</th>\n",
              "      <th>publisher revenue</th>\n",
              "      <th>sale price</th>\n",
              "      <th>sales rank</th>\n",
              "      <th>units sold</th>\n",
              "    </tr>\n",
              "  </thead>\n",
              "  <tbody>\n",
              "    <tr>\n",
              "      <th>count</th>\n",
              "      <td>1070.000000</td>\n",
              "      <td>1069.000000</td>\n",
              "      <td>1070.000000</td>\n",
              "      <td>1070.000000</td>\n",
              "      <td>1070.000000</td>\n",
              "      <td>1070.000000</td>\n",
              "      <td>1070.000000</td>\n",
              "      <td>1070.000000</td>\n",
              "      <td>1070.000000</td>\n",
              "    </tr>\n",
              "    <tr>\n",
              "      <th>mean</th>\n",
              "      <td>534.500000</td>\n",
              "      <td>1971.377923</td>\n",
              "      <td>4.007000</td>\n",
              "      <td>94909.913084</td>\n",
              "      <td>1856.622944</td>\n",
              "      <td>843.281030</td>\n",
              "      <td>4.869561</td>\n",
              "      <td>611.652336</td>\n",
              "      <td>9676.980374</td>\n",
              "    </tr>\n",
              "    <tr>\n",
              "      <th>std</th>\n",
              "      <td>309.026698</td>\n",
              "      <td>185.080257</td>\n",
              "      <td>0.247244</td>\n",
              "      <td>31513.242518</td>\n",
              "      <td>3936.924240</td>\n",
              "      <td>2257.596743</td>\n",
              "      <td>3.559919</td>\n",
              "      <td>369.849830</td>\n",
              "      <td>15370.571306</td>\n",
              "    </tr>\n",
              "    <tr>\n",
              "      <th>min</th>\n",
              "      <td>0.000000</td>\n",
              "      <td>-560.000000</td>\n",
              "      <td>2.970000</td>\n",
              "      <td>27308.000000</td>\n",
              "      <td>104.940000</td>\n",
              "      <td>0.000000</td>\n",
              "      <td>0.990000</td>\n",
              "      <td>1.000000</td>\n",
              "      <td>106.000000</td>\n",
              "    </tr>\n",
              "    <tr>\n",
              "      <th>25%</th>\n",
              "      <td>267.250000</td>\n",
              "      <td>1985.000000</td>\n",
              "      <td>3.850000</td>\n",
              "      <td>70398.000000</td>\n",
              "      <td>372.465000</td>\n",
              "      <td>0.000000</td>\n",
              "      <td>1.990000</td>\n",
              "      <td>287.500000</td>\n",
              "      <td>551.250000</td>\n",
              "    </tr>\n",
              "    <tr>\n",
              "      <th>50%</th>\n",
              "      <td>534.500000</td>\n",
              "      <td>2003.000000</td>\n",
              "      <td>4.015000</td>\n",
              "      <td>89309.000000</td>\n",
              "      <td>809.745000</td>\n",
              "      <td>273.078000</td>\n",
              "      <td>3.990000</td>\n",
              "      <td>595.500000</td>\n",
              "      <td>3924.000000</td>\n",
              "    </tr>\n",
              "    <tr>\n",
              "      <th>75%</th>\n",
              "      <td>801.750000</td>\n",
              "      <td>2010.000000</td>\n",
              "      <td>4.170000</td>\n",
              "      <td>113906.500000</td>\n",
              "      <td>1487.957500</td>\n",
              "      <td>721.180500</td>\n",
              "      <td>6.990000</td>\n",
              "      <td>932.500000</td>\n",
              "      <td>5312.250000</td>\n",
              "    </tr>\n",
              "    <tr>\n",
              "      <th>max</th>\n",
              "      <td>1069.000000</td>\n",
              "      <td>2016.000000</td>\n",
              "      <td>4.770000</td>\n",
              "      <td>206792.000000</td>\n",
              "      <td>47795.000000</td>\n",
              "      <td>28677.000000</td>\n",
              "      <td>33.860000</td>\n",
              "      <td>1273.000000</td>\n",
              "      <td>61560.000000</td>\n",
              "    </tr>\n",
              "  </tbody>\n",
              "</table>\n",
              "</div>\n",
              "    <div class=\"colab-df-buttons\">\n",
              "\n",
              "  <div class=\"colab-df-container\">\n",
              "    <button class=\"colab-df-convert\" onclick=\"convertToInteractive('df-42ec507f-f046-4339-8e04-3b8e2ad9362d')\"\n",
              "            title=\"Convert this dataframe to an interactive table.\"\n",
              "            style=\"display:none;\">\n",
              "\n",
              "  <svg xmlns=\"http://www.w3.org/2000/svg\" height=\"24px\" viewBox=\"0 -960 960 960\">\n",
              "    <path d=\"M120-120v-720h720v720H120Zm60-500h600v-160H180v160Zm220 220h160v-160H400v160Zm0 220h160v-160H400v160ZM180-400h160v-160H180v160Zm440 0h160v-160H620v160ZM180-180h160v-160H180v160Zm440 0h160v-160H620v160Z\"/>\n",
              "  </svg>\n",
              "    </button>\n",
              "\n",
              "  <style>\n",
              "    .colab-df-container {\n",
              "      display:flex;\n",
              "      gap: 12px;\n",
              "    }\n",
              "\n",
              "    .colab-df-convert {\n",
              "      background-color: #E8F0FE;\n",
              "      border: none;\n",
              "      border-radius: 50%;\n",
              "      cursor: pointer;\n",
              "      display: none;\n",
              "      fill: #1967D2;\n",
              "      height: 32px;\n",
              "      padding: 0 0 0 0;\n",
              "      width: 32px;\n",
              "    }\n",
              "\n",
              "    .colab-df-convert:hover {\n",
              "      background-color: #E2EBFA;\n",
              "      box-shadow: 0px 1px 2px rgba(60, 64, 67, 0.3), 0px 1px 3px 1px rgba(60, 64, 67, 0.15);\n",
              "      fill: #174EA6;\n",
              "    }\n",
              "\n",
              "    .colab-df-buttons div {\n",
              "      margin-bottom: 4px;\n",
              "    }\n",
              "\n",
              "    [theme=dark] .colab-df-convert {\n",
              "      background-color: #3B4455;\n",
              "      fill: #D2E3FC;\n",
              "    }\n",
              "\n",
              "    [theme=dark] .colab-df-convert:hover {\n",
              "      background-color: #434B5C;\n",
              "      box-shadow: 0px 1px 3px 1px rgba(0, 0, 0, 0.15);\n",
              "      filter: drop-shadow(0px 1px 2px rgba(0, 0, 0, 0.3));\n",
              "      fill: #FFFFFF;\n",
              "    }\n",
              "  </style>\n",
              "\n",
              "    <script>\n",
              "      const buttonEl =\n",
              "        document.querySelector('#df-42ec507f-f046-4339-8e04-3b8e2ad9362d button.colab-df-convert');\n",
              "      buttonEl.style.display =\n",
              "        google.colab.kernel.accessAllowed ? 'block' : 'none';\n",
              "\n",
              "      async function convertToInteractive(key) {\n",
              "        const element = document.querySelector('#df-42ec507f-f046-4339-8e04-3b8e2ad9362d');\n",
              "        const dataTable =\n",
              "          await google.colab.kernel.invokeFunction('convertToInteractive',\n",
              "                                                    [key], {});\n",
              "        if (!dataTable) return;\n",
              "\n",
              "        const docLinkHtml = 'Like what you see? Visit the ' +\n",
              "          '<a target=\"_blank\" href=https://colab.research.google.com/notebooks/data_table.ipynb>data table notebook</a>'\n",
              "          + ' to learn more about interactive tables.';\n",
              "        element.innerHTML = '';\n",
              "        dataTable['output_type'] = 'display_data';\n",
              "        await google.colab.output.renderOutput(dataTable, element);\n",
              "        const docLink = document.createElement('div');\n",
              "        docLink.innerHTML = docLinkHtml;\n",
              "        element.appendChild(docLink);\n",
              "      }\n",
              "    </script>\n",
              "  </div>\n",
              "\n",
              "\n",
              "    <div id=\"df-61cd380e-b9d8-4ae7-bdfc-cba77bb56865\">\n",
              "      <button class=\"colab-df-quickchart\" onclick=\"quickchart('df-61cd380e-b9d8-4ae7-bdfc-cba77bb56865')\"\n",
              "                title=\"Suggest charts\"\n",
              "                style=\"display:none;\">\n",
              "\n",
              "<svg xmlns=\"http://www.w3.org/2000/svg\" height=\"24px\"viewBox=\"0 0 24 24\"\n",
              "     width=\"24px\">\n",
              "    <g>\n",
              "        <path d=\"M19 3H5c-1.1 0-2 .9-2 2v14c0 1.1.9 2 2 2h14c1.1 0 2-.9 2-2V5c0-1.1-.9-2-2-2zM9 17H7v-7h2v7zm4 0h-2V7h2v10zm4 0h-2v-4h2v4z\"/>\n",
              "    </g>\n",
              "</svg>\n",
              "      </button>\n",
              "\n",
              "<style>\n",
              "  .colab-df-quickchart {\n",
              "      --bg-color: #E8F0FE;\n",
              "      --fill-color: #1967D2;\n",
              "      --hover-bg-color: #E2EBFA;\n",
              "      --hover-fill-color: #174EA6;\n",
              "      --disabled-fill-color: #AAA;\n",
              "      --disabled-bg-color: #DDD;\n",
              "  }\n",
              "\n",
              "  [theme=dark] .colab-df-quickchart {\n",
              "      --bg-color: #3B4455;\n",
              "      --fill-color: #D2E3FC;\n",
              "      --hover-bg-color: #434B5C;\n",
              "      --hover-fill-color: #FFFFFF;\n",
              "      --disabled-bg-color: #3B4455;\n",
              "      --disabled-fill-color: #666;\n",
              "  }\n",
              "\n",
              "  .colab-df-quickchart {\n",
              "    background-color: var(--bg-color);\n",
              "    border: none;\n",
              "    border-radius: 50%;\n",
              "    cursor: pointer;\n",
              "    display: none;\n",
              "    fill: var(--fill-color);\n",
              "    height: 32px;\n",
              "    padding: 0;\n",
              "    width: 32px;\n",
              "  }\n",
              "\n",
              "  .colab-df-quickchart:hover {\n",
              "    background-color: var(--hover-bg-color);\n",
              "    box-shadow: 0 1px 2px rgba(60, 64, 67, 0.3), 0 1px 3px 1px rgba(60, 64, 67, 0.15);\n",
              "    fill: var(--button-hover-fill-color);\n",
              "  }\n",
              "\n",
              "  .colab-df-quickchart-complete:disabled,\n",
              "  .colab-df-quickchart-complete:disabled:hover {\n",
              "    background-color: var(--disabled-bg-color);\n",
              "    fill: var(--disabled-fill-color);\n",
              "    box-shadow: none;\n",
              "  }\n",
              "\n",
              "  .colab-df-spinner {\n",
              "    border: 2px solid var(--fill-color);\n",
              "    border-color: transparent;\n",
              "    border-bottom-color: var(--fill-color);\n",
              "    animation:\n",
              "      spin 1s steps(1) infinite;\n",
              "  }\n",
              "\n",
              "  @keyframes spin {\n",
              "    0% {\n",
              "      border-color: transparent;\n",
              "      border-bottom-color: var(--fill-color);\n",
              "      border-left-color: var(--fill-color);\n",
              "    }\n",
              "    20% {\n",
              "      border-color: transparent;\n",
              "      border-left-color: var(--fill-color);\n",
              "      border-top-color: var(--fill-color);\n",
              "    }\n",
              "    30% {\n",
              "      border-color: transparent;\n",
              "      border-left-color: var(--fill-color);\n",
              "      border-top-color: var(--fill-color);\n",
              "      border-right-color: var(--fill-color);\n",
              "    }\n",
              "    40% {\n",
              "      border-color: transparent;\n",
              "      border-right-color: var(--fill-color);\n",
              "      border-top-color: var(--fill-color);\n",
              "    }\n",
              "    60% {\n",
              "      border-color: transparent;\n",
              "      border-right-color: var(--fill-color);\n",
              "    }\n",
              "    80% {\n",
              "      border-color: transparent;\n",
              "      border-right-color: var(--fill-color);\n",
              "      border-bottom-color: var(--fill-color);\n",
              "    }\n",
              "    90% {\n",
              "      border-color: transparent;\n",
              "      border-bottom-color: var(--fill-color);\n",
              "    }\n",
              "  }\n",
              "</style>\n",
              "\n",
              "      <script>\n",
              "        async function quickchart(key) {\n",
              "          const quickchartButtonEl =\n",
              "            document.querySelector('#' + key + ' button');\n",
              "          quickchartButtonEl.disabled = true;  // To prevent multiple clicks.\n",
              "          quickchartButtonEl.classList.add('colab-df-spinner');\n",
              "          try {\n",
              "            const charts = await google.colab.kernel.invokeFunction(\n",
              "                'suggestCharts', [key], {});\n",
              "          } catch (error) {\n",
              "            console.error('Error during call to suggestCharts:', error);\n",
              "          }\n",
              "          quickchartButtonEl.classList.remove('colab-df-spinner');\n",
              "          quickchartButtonEl.classList.add('colab-df-quickchart-complete');\n",
              "        }\n",
              "        (() => {\n",
              "          let quickchartButtonEl =\n",
              "            document.querySelector('#df-61cd380e-b9d8-4ae7-bdfc-cba77bb56865 button');\n",
              "          quickchartButtonEl.style.display =\n",
              "            google.colab.kernel.accessAllowed ? 'block' : 'none';\n",
              "        })();\n",
              "      </script>\n",
              "    </div>\n",
              "\n",
              "    </div>\n",
              "  </div>\n"
            ],
            "application/vnd.google.colaboratory.intrinsic+json": {
              "type": "dataframe",
              "summary": "{\n  \"name\": \"df\",\n  \"rows\": 8,\n  \"fields\": [\n    {\n      \"column\": \"index\",\n      \"properties\": {\n        \"dtype\": \"number\",\n        \"std\": 385.41434397584874,\n        \"min\": 0.0,\n        \"max\": 1070.0,\n        \"num_unique_values\": 7,\n        \"samples\": [\n          1070.0,\n          534.5,\n          801.75\n        ],\n        \"semantic_type\": \"\",\n        \"description\": \"\"\n      }\n    },\n    {\n      \"column\": \"Publishing Year\",\n      \"properties\": {\n        \"dtype\": \"number\",\n        \"std\": 1012.5768570062627,\n        \"min\": -560.0,\n        \"max\": 2016.0,\n        \"num_unique_values\": 8,\n        \"samples\": [\n          1971.377923292797,\n          2003.0,\n          1069.0\n        ],\n        \"semantic_type\": \"\",\n        \"description\": \"\"\n      }\n    },\n    {\n      \"column\": \"Book_average_rating\",\n      \"properties\": {\n        \"dtype\": \"number\",\n        \"std\": 377.09103188518253,\n        \"min\": 0.24724387206390464,\n        \"max\": 1070.0,\n        \"num_unique_values\": 8,\n        \"samples\": [\n          4.007,\n          4.015,\n          1070.0\n        ],\n        \"semantic_type\": \"\",\n        \"description\": \"\"\n      }\n    },\n    {\n      \"column\": \"Book_ratings_count\",\n      \"properties\": {\n        \"dtype\": \"number\",\n        \"std\": 64344.50669831697,\n        \"min\": 1070.0,\n        \"max\": 206792.0,\n        \"num_unique_values\": 8,\n        \"samples\": [\n          94909.91308411215,\n          89309.0,\n          1070.0\n        ],\n        \"semantic_type\": \"\",\n        \"description\": \"\"\n      }\n    },\n    {\n      \"column\": \"gross sales\",\n      \"properties\": {\n        \"dtype\": \"number\",\n        \"std\": 16454.025590792146,\n        \"min\": 104.94,\n        \"max\": 47795.0,\n        \"num_unique_values\": 8,\n        \"samples\": [\n          1856.6229439252338,\n          809.745,\n          1070.0\n        ],\n        \"semantic_type\": \"\",\n        \"description\": \"\"\n      }\n    },\n    {\n      \"column\": \"publisher revenue\",\n      \"properties\": {\n        \"dtype\": \"number\",\n        \"std\": 9904.951823761143,\n        \"min\": 0.0,\n        \"max\": 28677.0,\n        \"num_unique_values\": 7,\n        \"samples\": [\n          1070.0,\n          843.2810299065421,\n          721.1804999999999\n        ],\n        \"semantic_type\": \"\",\n        \"description\": \"\"\n      }\n    },\n    {\n      \"column\": \"sale price\",\n      \"properties\": {\n        \"dtype\": \"number\",\n        \"std\": 375.6133782122349,\n        \"min\": 0.99,\n        \"max\": 1070.0,\n        \"num_unique_values\": 8,\n        \"samples\": [\n          4.869560747663551,\n          3.99,\n          1070.0\n        ],\n        \"semantic_type\": \"\",\n        \"description\": \"\"\n      }\n    },\n    {\n      \"column\": \"sales rank\",\n      \"properties\": {\n        \"dtype\": \"number\",\n        \"std\": 427.5231519171498,\n        \"min\": 1.0,\n        \"max\": 1273.0,\n        \"num_unique_values\": 8,\n        \"samples\": [\n          611.6523364485981,\n          595.5,\n          1070.0\n        ],\n        \"semantic_type\": \"\",\n        \"description\": \"\"\n      }\n    },\n    {\n      \"column\": \"units sold\",\n      \"properties\": {\n        \"dtype\": \"number\",\n        \"std\": 20614.128422425747,\n        \"min\": 106.0,\n        \"max\": 61560.0,\n        \"num_unique_values\": 8,\n        \"samples\": [\n          9676.980373831775,\n          3924.0,\n          1070.0\n        ],\n        \"semantic_type\": \"\",\n        \"description\": \"\"\n      }\n    }\n  ]\n}"
            }
          },
          "metadata": {},
          "execution_count": 105
        }
      ]
    },
    {
      "cell_type": "markdown",
      "source": [
        "## Observation:\n",
        "### we can clearly see that from year 2010 - 2016, there is a huge jump in-\n",
        "* Book_ratings_count\n",
        "* gross sales\n",
        "* publisher revenue\n",
        "* sale price\n",
        "* units sold"
      ],
      "metadata": {
        "id": "gCR8xtaLz30w"
      }
    },
    {
      "cell_type": "markdown",
      "source": [
        "# ISSUES\n",
        "## 1. negative values in publishing year col"
      ],
      "metadata": {
        "id": "TTw8WgAeGL3L"
      }
    },
    {
      "cell_type": "code",
      "source": [
        "df['Publishing Year'].sort_values().head(10)\n",
        "\n",
        "# we've 6 negative values, also practically we need data from 1900 year, not before that"
      ],
      "metadata": {
        "id": "3PHhQ8a4D6CT",
        "colab": {
          "base_uri": "https://localhost:8080/",
          "height": 397
        },
        "outputId": "109f9d61-f403-4df8-bf65-e75cca8a6b91"
      },
      "execution_count": 106,
      "outputs": [
        {
          "output_type": "execute_result",
          "data": {
            "text/plain": [
              "589    -560.0\n",
              "990    -441.0\n",
              "293    -430.0\n",
              "241    -380.0\n",
              "568    -300.0\n",
              "749     -17.0\n",
              "636    1308.0\n",
              "446    1320.0\n",
              "115    1390.0\n",
              "242    1593.0\n",
              "Name: Publishing Year, dtype: float64"
            ],
            "text/html": [
              "<div>\n",
              "<style scoped>\n",
              "    .dataframe tbody tr th:only-of-type {\n",
              "        vertical-align: middle;\n",
              "    }\n",
              "\n",
              "    .dataframe tbody tr th {\n",
              "        vertical-align: top;\n",
              "    }\n",
              "\n",
              "    .dataframe thead th {\n",
              "        text-align: right;\n",
              "    }\n",
              "</style>\n",
              "<table border=\"1\" class=\"dataframe\">\n",
              "  <thead>\n",
              "    <tr style=\"text-align: right;\">\n",
              "      <th></th>\n",
              "      <th>Publishing Year</th>\n",
              "    </tr>\n",
              "  </thead>\n",
              "  <tbody>\n",
              "    <tr>\n",
              "      <th>589</th>\n",
              "      <td>-560.0</td>\n",
              "    </tr>\n",
              "    <tr>\n",
              "      <th>990</th>\n",
              "      <td>-441.0</td>\n",
              "    </tr>\n",
              "    <tr>\n",
              "      <th>293</th>\n",
              "      <td>-430.0</td>\n",
              "    </tr>\n",
              "    <tr>\n",
              "      <th>241</th>\n",
              "      <td>-380.0</td>\n",
              "    </tr>\n",
              "    <tr>\n",
              "      <th>568</th>\n",
              "      <td>-300.0</td>\n",
              "    </tr>\n",
              "    <tr>\n",
              "      <th>749</th>\n",
              "      <td>-17.0</td>\n",
              "    </tr>\n",
              "    <tr>\n",
              "      <th>636</th>\n",
              "      <td>1308.0</td>\n",
              "    </tr>\n",
              "    <tr>\n",
              "      <th>446</th>\n",
              "      <td>1320.0</td>\n",
              "    </tr>\n",
              "    <tr>\n",
              "      <th>115</th>\n",
              "      <td>1390.0</td>\n",
              "    </tr>\n",
              "    <tr>\n",
              "      <th>242</th>\n",
              "      <td>1593.0</td>\n",
              "    </tr>\n",
              "  </tbody>\n",
              "</table>\n",
              "</div><br><label><b>dtype:</b> float64</label>"
            ]
          },
          "metadata": {},
          "execution_count": 106
        }
      ]
    },
    {
      "cell_type": "code",
      "source": [
        "df = df[df['Publishing Year'] >= 1900]"
      ],
      "metadata": {
        "id": "vIeq1QyCu1_v"
      },
      "execution_count": 107,
      "outputs": []
    },
    {
      "cell_type": "code",
      "source": [
        "df.describe()"
      ],
      "metadata": {
        "colab": {
          "base_uri": "https://localhost:8080/",
          "height": 317
        },
        "id": "pe3okZvIFXlt",
        "outputId": "e4417ea1-885a-4e80-b63b-d8a36b16136b"
      },
      "execution_count": 108,
      "outputs": [
        {
          "output_type": "execute_result",
          "data": {
            "text/plain": [
              "             index  Publishing Year  Book_average_rating  Book_ratings_count  \\\n",
              "count  1009.000000      1009.000000          1009.000000         1009.000000   \n",
              "mean    535.926660      1994.730426             4.012230        94817.793855   \n",
              "std     308.769358        23.204719             0.246492        31473.890412   \n",
              "min       0.000000      1901.000000             2.970000        27308.000000   \n",
              "25%     271.000000      1989.000000             3.860000        70701.000000   \n",
              "50%     535.000000      2003.000000             4.030000        89204.000000   \n",
              "75%     802.000000      2010.000000             4.180000       113400.000000   \n",
              "max    1069.000000      2016.000000             4.770000       206792.000000   \n",
              "\n",
              "        gross sales  publisher revenue   sale price   sales rank    units sold  \n",
              "count   1009.000000        1009.000000  1009.000000  1009.000000   1009.000000  \n",
              "mean    1832.644985         841.360638     4.844311   613.314172   9744.482656  \n",
              "std     3947.885096        2279.579848     3.561712   369.628663  15350.021050  \n",
              "min      104.940000           0.000000     0.990000     1.000000    106.000000  \n",
              "25%      366.300000           0.000000     1.990000   291.000000    570.000000  \n",
              "50%      792.000000         273.240000     3.990000   596.000000   3942.000000  \n",
              "75%     1470.260000         714.756000     6.990000   933.000000   5427.000000  \n",
              "max    47795.000000       28677.000000    33.860000  1273.000000  61560.000000  "
            ],
            "text/html": [
              "\n",
              "  <div id=\"df-b7079509-940b-4aad-861f-fa82506c419f\" class=\"colab-df-container\">\n",
              "    <div>\n",
              "<style scoped>\n",
              "    .dataframe tbody tr th:only-of-type {\n",
              "        vertical-align: middle;\n",
              "    }\n",
              "\n",
              "    .dataframe tbody tr th {\n",
              "        vertical-align: top;\n",
              "    }\n",
              "\n",
              "    .dataframe thead th {\n",
              "        text-align: right;\n",
              "    }\n",
              "</style>\n",
              "<table border=\"1\" class=\"dataframe\">\n",
              "  <thead>\n",
              "    <tr style=\"text-align: right;\">\n",
              "      <th></th>\n",
              "      <th>index</th>\n",
              "      <th>Publishing Year</th>\n",
              "      <th>Book_average_rating</th>\n",
              "      <th>Book_ratings_count</th>\n",
              "      <th>gross sales</th>\n",
              "      <th>publisher revenue</th>\n",
              "      <th>sale price</th>\n",
              "      <th>sales rank</th>\n",
              "      <th>units sold</th>\n",
              "    </tr>\n",
              "  </thead>\n",
              "  <tbody>\n",
              "    <tr>\n",
              "      <th>count</th>\n",
              "      <td>1009.000000</td>\n",
              "      <td>1009.000000</td>\n",
              "      <td>1009.000000</td>\n",
              "      <td>1009.000000</td>\n",
              "      <td>1009.000000</td>\n",
              "      <td>1009.000000</td>\n",
              "      <td>1009.000000</td>\n",
              "      <td>1009.000000</td>\n",
              "      <td>1009.000000</td>\n",
              "    </tr>\n",
              "    <tr>\n",
              "      <th>mean</th>\n",
              "      <td>535.926660</td>\n",
              "      <td>1994.730426</td>\n",
              "      <td>4.012230</td>\n",
              "      <td>94817.793855</td>\n",
              "      <td>1832.644985</td>\n",
              "      <td>841.360638</td>\n",
              "      <td>4.844311</td>\n",
              "      <td>613.314172</td>\n",
              "      <td>9744.482656</td>\n",
              "    </tr>\n",
              "    <tr>\n",
              "      <th>std</th>\n",
              "      <td>308.769358</td>\n",
              "      <td>23.204719</td>\n",
              "      <td>0.246492</td>\n",
              "      <td>31473.890412</td>\n",
              "      <td>3947.885096</td>\n",
              "      <td>2279.579848</td>\n",
              "      <td>3.561712</td>\n",
              "      <td>369.628663</td>\n",
              "      <td>15350.021050</td>\n",
              "    </tr>\n",
              "    <tr>\n",
              "      <th>min</th>\n",
              "      <td>0.000000</td>\n",
              "      <td>1901.000000</td>\n",
              "      <td>2.970000</td>\n",
              "      <td>27308.000000</td>\n",
              "      <td>104.940000</td>\n",
              "      <td>0.000000</td>\n",
              "      <td>0.990000</td>\n",
              "      <td>1.000000</td>\n",
              "      <td>106.000000</td>\n",
              "    </tr>\n",
              "    <tr>\n",
              "      <th>25%</th>\n",
              "      <td>271.000000</td>\n",
              "      <td>1989.000000</td>\n",
              "      <td>3.860000</td>\n",
              "      <td>70701.000000</td>\n",
              "      <td>366.300000</td>\n",
              "      <td>0.000000</td>\n",
              "      <td>1.990000</td>\n",
              "      <td>291.000000</td>\n",
              "      <td>570.000000</td>\n",
              "    </tr>\n",
              "    <tr>\n",
              "      <th>50%</th>\n",
              "      <td>535.000000</td>\n",
              "      <td>2003.000000</td>\n",
              "      <td>4.030000</td>\n",
              "      <td>89204.000000</td>\n",
              "      <td>792.000000</td>\n",
              "      <td>273.240000</td>\n",
              "      <td>3.990000</td>\n",
              "      <td>596.000000</td>\n",
              "      <td>3942.000000</td>\n",
              "    </tr>\n",
              "    <tr>\n",
              "      <th>75%</th>\n",
              "      <td>802.000000</td>\n",
              "      <td>2010.000000</td>\n",
              "      <td>4.180000</td>\n",
              "      <td>113400.000000</td>\n",
              "      <td>1470.260000</td>\n",
              "      <td>714.756000</td>\n",
              "      <td>6.990000</td>\n",
              "      <td>933.000000</td>\n",
              "      <td>5427.000000</td>\n",
              "    </tr>\n",
              "    <tr>\n",
              "      <th>max</th>\n",
              "      <td>1069.000000</td>\n",
              "      <td>2016.000000</td>\n",
              "      <td>4.770000</td>\n",
              "      <td>206792.000000</td>\n",
              "      <td>47795.000000</td>\n",
              "      <td>28677.000000</td>\n",
              "      <td>33.860000</td>\n",
              "      <td>1273.000000</td>\n",
              "      <td>61560.000000</td>\n",
              "    </tr>\n",
              "  </tbody>\n",
              "</table>\n",
              "</div>\n",
              "    <div class=\"colab-df-buttons\">\n",
              "\n",
              "  <div class=\"colab-df-container\">\n",
              "    <button class=\"colab-df-convert\" onclick=\"convertToInteractive('df-b7079509-940b-4aad-861f-fa82506c419f')\"\n",
              "            title=\"Convert this dataframe to an interactive table.\"\n",
              "            style=\"display:none;\">\n",
              "\n",
              "  <svg xmlns=\"http://www.w3.org/2000/svg\" height=\"24px\" viewBox=\"0 -960 960 960\">\n",
              "    <path d=\"M120-120v-720h720v720H120Zm60-500h600v-160H180v160Zm220 220h160v-160H400v160Zm0 220h160v-160H400v160ZM180-400h160v-160H180v160Zm440 0h160v-160H620v160ZM180-180h160v-160H180v160Zm440 0h160v-160H620v160Z\"/>\n",
              "  </svg>\n",
              "    </button>\n",
              "\n",
              "  <style>\n",
              "    .colab-df-container {\n",
              "      display:flex;\n",
              "      gap: 12px;\n",
              "    }\n",
              "\n",
              "    .colab-df-convert {\n",
              "      background-color: #E8F0FE;\n",
              "      border: none;\n",
              "      border-radius: 50%;\n",
              "      cursor: pointer;\n",
              "      display: none;\n",
              "      fill: #1967D2;\n",
              "      height: 32px;\n",
              "      padding: 0 0 0 0;\n",
              "      width: 32px;\n",
              "    }\n",
              "\n",
              "    .colab-df-convert:hover {\n",
              "      background-color: #E2EBFA;\n",
              "      box-shadow: 0px 1px 2px rgba(60, 64, 67, 0.3), 0px 1px 3px 1px rgba(60, 64, 67, 0.15);\n",
              "      fill: #174EA6;\n",
              "    }\n",
              "\n",
              "    .colab-df-buttons div {\n",
              "      margin-bottom: 4px;\n",
              "    }\n",
              "\n",
              "    [theme=dark] .colab-df-convert {\n",
              "      background-color: #3B4455;\n",
              "      fill: #D2E3FC;\n",
              "    }\n",
              "\n",
              "    [theme=dark] .colab-df-convert:hover {\n",
              "      background-color: #434B5C;\n",
              "      box-shadow: 0px 1px 3px 1px rgba(0, 0, 0, 0.15);\n",
              "      filter: drop-shadow(0px 1px 2px rgba(0, 0, 0, 0.3));\n",
              "      fill: #FFFFFF;\n",
              "    }\n",
              "  </style>\n",
              "\n",
              "    <script>\n",
              "      const buttonEl =\n",
              "        document.querySelector('#df-b7079509-940b-4aad-861f-fa82506c419f button.colab-df-convert');\n",
              "      buttonEl.style.display =\n",
              "        google.colab.kernel.accessAllowed ? 'block' : 'none';\n",
              "\n",
              "      async function convertToInteractive(key) {\n",
              "        const element = document.querySelector('#df-b7079509-940b-4aad-861f-fa82506c419f');\n",
              "        const dataTable =\n",
              "          await google.colab.kernel.invokeFunction('convertToInteractive',\n",
              "                                                    [key], {});\n",
              "        if (!dataTable) return;\n",
              "\n",
              "        const docLinkHtml = 'Like what you see? Visit the ' +\n",
              "          '<a target=\"_blank\" href=https://colab.research.google.com/notebooks/data_table.ipynb>data table notebook</a>'\n",
              "          + ' to learn more about interactive tables.';\n",
              "        element.innerHTML = '';\n",
              "        dataTable['output_type'] = 'display_data';\n",
              "        await google.colab.output.renderOutput(dataTable, element);\n",
              "        const docLink = document.createElement('div');\n",
              "        docLink.innerHTML = docLinkHtml;\n",
              "        element.appendChild(docLink);\n",
              "      }\n",
              "    </script>\n",
              "  </div>\n",
              "\n",
              "\n",
              "    <div id=\"df-d236e34e-29fe-4905-906a-a82a6a96fc6c\">\n",
              "      <button class=\"colab-df-quickchart\" onclick=\"quickchart('df-d236e34e-29fe-4905-906a-a82a6a96fc6c')\"\n",
              "                title=\"Suggest charts\"\n",
              "                style=\"display:none;\">\n",
              "\n",
              "<svg xmlns=\"http://www.w3.org/2000/svg\" height=\"24px\"viewBox=\"0 0 24 24\"\n",
              "     width=\"24px\">\n",
              "    <g>\n",
              "        <path d=\"M19 3H5c-1.1 0-2 .9-2 2v14c0 1.1.9 2 2 2h14c1.1 0 2-.9 2-2V5c0-1.1-.9-2-2-2zM9 17H7v-7h2v7zm4 0h-2V7h2v10zm4 0h-2v-4h2v4z\"/>\n",
              "    </g>\n",
              "</svg>\n",
              "      </button>\n",
              "\n",
              "<style>\n",
              "  .colab-df-quickchart {\n",
              "      --bg-color: #E8F0FE;\n",
              "      --fill-color: #1967D2;\n",
              "      --hover-bg-color: #E2EBFA;\n",
              "      --hover-fill-color: #174EA6;\n",
              "      --disabled-fill-color: #AAA;\n",
              "      --disabled-bg-color: #DDD;\n",
              "  }\n",
              "\n",
              "  [theme=dark] .colab-df-quickchart {\n",
              "      --bg-color: #3B4455;\n",
              "      --fill-color: #D2E3FC;\n",
              "      --hover-bg-color: #434B5C;\n",
              "      --hover-fill-color: #FFFFFF;\n",
              "      --disabled-bg-color: #3B4455;\n",
              "      --disabled-fill-color: #666;\n",
              "  }\n",
              "\n",
              "  .colab-df-quickchart {\n",
              "    background-color: var(--bg-color);\n",
              "    border: none;\n",
              "    border-radius: 50%;\n",
              "    cursor: pointer;\n",
              "    display: none;\n",
              "    fill: var(--fill-color);\n",
              "    height: 32px;\n",
              "    padding: 0;\n",
              "    width: 32px;\n",
              "  }\n",
              "\n",
              "  .colab-df-quickchart:hover {\n",
              "    background-color: var(--hover-bg-color);\n",
              "    box-shadow: 0 1px 2px rgba(60, 64, 67, 0.3), 0 1px 3px 1px rgba(60, 64, 67, 0.15);\n",
              "    fill: var(--button-hover-fill-color);\n",
              "  }\n",
              "\n",
              "  .colab-df-quickchart-complete:disabled,\n",
              "  .colab-df-quickchart-complete:disabled:hover {\n",
              "    background-color: var(--disabled-bg-color);\n",
              "    fill: var(--disabled-fill-color);\n",
              "    box-shadow: none;\n",
              "  }\n",
              "\n",
              "  .colab-df-spinner {\n",
              "    border: 2px solid var(--fill-color);\n",
              "    border-color: transparent;\n",
              "    border-bottom-color: var(--fill-color);\n",
              "    animation:\n",
              "      spin 1s steps(1) infinite;\n",
              "  }\n",
              "\n",
              "  @keyframes spin {\n",
              "    0% {\n",
              "      border-color: transparent;\n",
              "      border-bottom-color: var(--fill-color);\n",
              "      border-left-color: var(--fill-color);\n",
              "    }\n",
              "    20% {\n",
              "      border-color: transparent;\n",
              "      border-left-color: var(--fill-color);\n",
              "      border-top-color: var(--fill-color);\n",
              "    }\n",
              "    30% {\n",
              "      border-color: transparent;\n",
              "      border-left-color: var(--fill-color);\n",
              "      border-top-color: var(--fill-color);\n",
              "      border-right-color: var(--fill-color);\n",
              "    }\n",
              "    40% {\n",
              "      border-color: transparent;\n",
              "      border-right-color: var(--fill-color);\n",
              "      border-top-color: var(--fill-color);\n",
              "    }\n",
              "    60% {\n",
              "      border-color: transparent;\n",
              "      border-right-color: var(--fill-color);\n",
              "    }\n",
              "    80% {\n",
              "      border-color: transparent;\n",
              "      border-right-color: var(--fill-color);\n",
              "      border-bottom-color: var(--fill-color);\n",
              "    }\n",
              "    90% {\n",
              "      border-color: transparent;\n",
              "      border-bottom-color: var(--fill-color);\n",
              "    }\n",
              "  }\n",
              "</style>\n",
              "\n",
              "      <script>\n",
              "        async function quickchart(key) {\n",
              "          const quickchartButtonEl =\n",
              "            document.querySelector('#' + key + ' button');\n",
              "          quickchartButtonEl.disabled = true;  // To prevent multiple clicks.\n",
              "          quickchartButtonEl.classList.add('colab-df-spinner');\n",
              "          try {\n",
              "            const charts = await google.colab.kernel.invokeFunction(\n",
              "                'suggestCharts', [key], {});\n",
              "          } catch (error) {\n",
              "            console.error('Error during call to suggestCharts:', error);\n",
              "          }\n",
              "          quickchartButtonEl.classList.remove('colab-df-spinner');\n",
              "          quickchartButtonEl.classList.add('colab-df-quickchart-complete');\n",
              "        }\n",
              "        (() => {\n",
              "          let quickchartButtonEl =\n",
              "            document.querySelector('#df-d236e34e-29fe-4905-906a-a82a6a96fc6c button');\n",
              "          quickchartButtonEl.style.display =\n",
              "            google.colab.kernel.accessAllowed ? 'block' : 'none';\n",
              "        })();\n",
              "      </script>\n",
              "    </div>\n",
              "\n",
              "    </div>\n",
              "  </div>\n"
            ],
            "application/vnd.google.colaboratory.intrinsic+json": {
              "type": "dataframe",
              "summary": "{\n  \"name\": \"df\",\n  \"rows\": 8,\n  \"fields\": [\n    {\n      \"column\": \"index\",\n      \"properties\": {\n        \"dtype\": \"number\",\n        \"std\": 374.235811906538,\n        \"min\": 0.0,\n        \"max\": 1069.0,\n        \"num_unique_values\": 8,\n        \"samples\": [\n          535.9266600594648,\n          535.0,\n          1009.0\n        ],\n        \"semantic_type\": \"\",\n        \"description\": \"\"\n      }\n    },\n    {\n      \"column\": \"Publishing Year\",\n      \"properties\": {\n        \"dtype\": \"number\",\n        \"std\": 730.3816353527319,\n        \"min\": 23.204719431306724,\n        \"max\": 2016.0,\n        \"num_unique_values\": 8,\n        \"samples\": [\n          1994.7304261645193,\n          2003.0,\n          1009.0\n        ],\n        \"semantic_type\": \"\",\n        \"description\": \"\"\n      }\n    },\n    {\n      \"column\": \"Book_average_rating\",\n      \"properties\": {\n        \"dtype\": \"number\",\n        \"std\": 355.5224470231431,\n        \"min\": 0.24649222164893542,\n        \"max\": 1009.0,\n        \"num_unique_values\": 8,\n        \"samples\": [\n          4.012229930624381,\n          4.03,\n          1009.0\n        ],\n        \"semantic_type\": \"\",\n        \"description\": \"\"\n      }\n    },\n    {\n      \"column\": \"Book_ratings_count\",\n      \"properties\": {\n        \"dtype\": \"number\",\n        \"std\": 64309.32817257883,\n        \"min\": 1009.0,\n        \"max\": 206792.0,\n        \"num_unique_values\": 8,\n        \"samples\": [\n          94817.79385530228,\n          89204.0,\n          1009.0\n        ],\n        \"semantic_type\": \"\",\n        \"description\": \"\"\n      }\n    },\n    {\n      \"column\": \"gross sales\",\n      \"properties\": {\n        \"dtype\": \"number\",\n        \"std\": 16460.294370671567,\n        \"min\": 104.94,\n        \"max\": 47795.0,\n        \"num_unique_values\": 8,\n        \"samples\": [\n          1832.644985133796,\n          792.0,\n          1009.0\n        ],\n        \"semantic_type\": \"\",\n        \"description\": \"\"\n      }\n    },\n    {\n      \"column\": \"publisher revenue\",\n      \"properties\": {\n        \"dtype\": \"number\",\n        \"std\": 9907.544756612731,\n        \"min\": 0.0,\n        \"max\": 28677.0,\n        \"num_unique_values\": 7,\n        \"samples\": [\n          1009.0,\n          841.3606382556987,\n          714.756\n        ],\n        \"semantic_type\": \"\",\n        \"description\": \"\"\n      }\n    },\n    {\n      \"column\": \"sale price\",\n      \"properties\": {\n        \"dtype\": \"number\",\n        \"std\": 354.0571106303834,\n        \"min\": 0.99,\n        \"max\": 1009.0,\n        \"num_unique_values\": 8,\n        \"samples\": [\n          4.8443111992071355,\n          3.99,\n          1009.0\n        ],\n        \"semantic_type\": \"\",\n        \"description\": \"\"\n      }\n    },\n    {\n      \"column\": \"sales rank\",\n      \"properties\": {\n        \"dtype\": \"number\",\n        \"std\": 418.91438042345095,\n        \"min\": 1.0,\n        \"max\": 1273.0,\n        \"num_unique_values\": 8,\n        \"samples\": [\n          613.3141724479683,\n          596.0,\n          1009.0\n        ],\n        \"semantic_type\": \"\",\n        \"description\": \"\"\n      }\n    },\n    {\n      \"column\": \"units sold\",\n      \"properties\": {\n        \"dtype\": \"number\",\n        \"std\": 20609.251169638927,\n        \"min\": 106.0,\n        \"max\": 61560.0,\n        \"num_unique_values\": 8,\n        \"samples\": [\n          9744.482656095144,\n          3942.0,\n          1009.0\n        ],\n        \"semantic_type\": \"\",\n        \"description\": \"\"\n      }\n    }\n  ]\n}"
            }
          },
          "metadata": {},
          "execution_count": 108
        }
      ]
    },
    {
      "cell_type": "code",
      "source": [
        "df.isna().sum()"
      ],
      "metadata": {
        "colab": {
          "base_uri": "https://localhost:8080/",
          "height": 554
        },
        "id": "Fg9GNe0KH2Pn",
        "outputId": "0bafc6b1-b758-4dc4-ab35-267dd1a278b9"
      },
      "execution_count": 109,
      "outputs": [
        {
          "output_type": "execute_result",
          "data": {
            "text/plain": [
              "index                   0\n",
              "Publishing Year         0\n",
              "Book Name              21\n",
              "Author                  0\n",
              "language_code          49\n",
              "Author_Rating           0\n",
              "Book_average_rating     0\n",
              "Book_ratings_count      0\n",
              "genre                   0\n",
              "gross sales             0\n",
              "publisher revenue       0\n",
              "sale price              0\n",
              "sales rank              0\n",
              "Publisher               0\n",
              "units sold              0\n",
              "dtype: int64"
            ],
            "text/html": [
              "<div>\n",
              "<style scoped>\n",
              "    .dataframe tbody tr th:only-of-type {\n",
              "        vertical-align: middle;\n",
              "    }\n",
              "\n",
              "    .dataframe tbody tr th {\n",
              "        vertical-align: top;\n",
              "    }\n",
              "\n",
              "    .dataframe thead th {\n",
              "        text-align: right;\n",
              "    }\n",
              "</style>\n",
              "<table border=\"1\" class=\"dataframe\">\n",
              "  <thead>\n",
              "    <tr style=\"text-align: right;\">\n",
              "      <th></th>\n",
              "      <th>0</th>\n",
              "    </tr>\n",
              "  </thead>\n",
              "  <tbody>\n",
              "    <tr>\n",
              "      <th>index</th>\n",
              "      <td>0</td>\n",
              "    </tr>\n",
              "    <tr>\n",
              "      <th>Publishing Year</th>\n",
              "      <td>0</td>\n",
              "    </tr>\n",
              "    <tr>\n",
              "      <th>Book Name</th>\n",
              "      <td>21</td>\n",
              "    </tr>\n",
              "    <tr>\n",
              "      <th>Author</th>\n",
              "      <td>0</td>\n",
              "    </tr>\n",
              "    <tr>\n",
              "      <th>language_code</th>\n",
              "      <td>49</td>\n",
              "    </tr>\n",
              "    <tr>\n",
              "      <th>Author_Rating</th>\n",
              "      <td>0</td>\n",
              "    </tr>\n",
              "    <tr>\n",
              "      <th>Book_average_rating</th>\n",
              "      <td>0</td>\n",
              "    </tr>\n",
              "    <tr>\n",
              "      <th>Book_ratings_count</th>\n",
              "      <td>0</td>\n",
              "    </tr>\n",
              "    <tr>\n",
              "      <th>genre</th>\n",
              "      <td>0</td>\n",
              "    </tr>\n",
              "    <tr>\n",
              "      <th>gross sales</th>\n",
              "      <td>0</td>\n",
              "    </tr>\n",
              "    <tr>\n",
              "      <th>publisher revenue</th>\n",
              "      <td>0</td>\n",
              "    </tr>\n",
              "    <tr>\n",
              "      <th>sale price</th>\n",
              "      <td>0</td>\n",
              "    </tr>\n",
              "    <tr>\n",
              "      <th>sales rank</th>\n",
              "      <td>0</td>\n",
              "    </tr>\n",
              "    <tr>\n",
              "      <th>Publisher</th>\n",
              "      <td>0</td>\n",
              "    </tr>\n",
              "    <tr>\n",
              "      <th>units sold</th>\n",
              "      <td>0</td>\n",
              "    </tr>\n",
              "  </tbody>\n",
              "</table>\n",
              "</div><br><label><b>dtype:</b> int64</label>"
            ]
          },
          "metadata": {},
          "execution_count": 109
        }
      ]
    },
    {
      "cell_type": "markdown",
      "source": [
        "## 2. there are null values in book name and language code cols\n",
        "* since we don't have 21 books name, so we'll drop them\n",
        "* removing 49 rows with nan language code may remove some important data, so leave it as it is"
      ],
      "metadata": {
        "id": "5LeETeRHIN_t"
      }
    },
    {
      "cell_type": "code",
      "source": [
        "df.dropna(subset = \"Book Name\", inplace=True)"
      ],
      "metadata": {
        "id": "eZuLjz9PIIyL"
      },
      "execution_count": 110,
      "outputs": []
    },
    {
      "cell_type": "code",
      "source": [
        "df.isna().sum()"
      ],
      "metadata": {
        "colab": {
          "base_uri": "https://localhost:8080/",
          "height": 554
        },
        "id": "FFzwCuCWI9nT",
        "outputId": "c409e26e-7a36-4ade-c555-dda6288b999c"
      },
      "execution_count": 111,
      "outputs": [
        {
          "output_type": "execute_result",
          "data": {
            "text/plain": [
              "index                   0\n",
              "Publishing Year         0\n",
              "Book Name               0\n",
              "Author                  0\n",
              "language_code          47\n",
              "Author_Rating           0\n",
              "Book_average_rating     0\n",
              "Book_ratings_count      0\n",
              "genre                   0\n",
              "gross sales             0\n",
              "publisher revenue       0\n",
              "sale price              0\n",
              "sales rank              0\n",
              "Publisher               0\n",
              "units sold              0\n",
              "dtype: int64"
            ],
            "text/html": [
              "<div>\n",
              "<style scoped>\n",
              "    .dataframe tbody tr th:only-of-type {\n",
              "        vertical-align: middle;\n",
              "    }\n",
              "\n",
              "    .dataframe tbody tr th {\n",
              "        vertical-align: top;\n",
              "    }\n",
              "\n",
              "    .dataframe thead th {\n",
              "        text-align: right;\n",
              "    }\n",
              "</style>\n",
              "<table border=\"1\" class=\"dataframe\">\n",
              "  <thead>\n",
              "    <tr style=\"text-align: right;\">\n",
              "      <th></th>\n",
              "      <th>0</th>\n",
              "    </tr>\n",
              "  </thead>\n",
              "  <tbody>\n",
              "    <tr>\n",
              "      <th>index</th>\n",
              "      <td>0</td>\n",
              "    </tr>\n",
              "    <tr>\n",
              "      <th>Publishing Year</th>\n",
              "      <td>0</td>\n",
              "    </tr>\n",
              "    <tr>\n",
              "      <th>Book Name</th>\n",
              "      <td>0</td>\n",
              "    </tr>\n",
              "    <tr>\n",
              "      <th>Author</th>\n",
              "      <td>0</td>\n",
              "    </tr>\n",
              "    <tr>\n",
              "      <th>language_code</th>\n",
              "      <td>47</td>\n",
              "    </tr>\n",
              "    <tr>\n",
              "      <th>Author_Rating</th>\n",
              "      <td>0</td>\n",
              "    </tr>\n",
              "    <tr>\n",
              "      <th>Book_average_rating</th>\n",
              "      <td>0</td>\n",
              "    </tr>\n",
              "    <tr>\n",
              "      <th>Book_ratings_count</th>\n",
              "      <td>0</td>\n",
              "    </tr>\n",
              "    <tr>\n",
              "      <th>genre</th>\n",
              "      <td>0</td>\n",
              "    </tr>\n",
              "    <tr>\n",
              "      <th>gross sales</th>\n",
              "      <td>0</td>\n",
              "    </tr>\n",
              "    <tr>\n",
              "      <th>publisher revenue</th>\n",
              "      <td>0</td>\n",
              "    </tr>\n",
              "    <tr>\n",
              "      <th>sale price</th>\n",
              "      <td>0</td>\n",
              "    </tr>\n",
              "    <tr>\n",
              "      <th>sales rank</th>\n",
              "      <td>0</td>\n",
              "    </tr>\n",
              "    <tr>\n",
              "      <th>Publisher</th>\n",
              "      <td>0</td>\n",
              "    </tr>\n",
              "    <tr>\n",
              "      <th>units sold</th>\n",
              "      <td>0</td>\n",
              "    </tr>\n",
              "  </tbody>\n",
              "</table>\n",
              "</div><br><label><b>dtype:</b> int64</label>"
            ]
          },
          "metadata": {},
          "execution_count": 111
        }
      ]
    },
    {
      "cell_type": "code",
      "source": [
        "df.duplicated().sum()"
      ],
      "metadata": {
        "colab": {
          "base_uri": "https://localhost:8080/"
        },
        "id": "ez8NUtA4JBym",
        "outputId": "869f72c3-d976-48e9-cc72-3cf3a782076c"
      },
      "execution_count": 112,
      "outputs": [
        {
          "output_type": "execute_result",
          "data": {
            "text/plain": [
              "np.int64(0)"
            ]
          },
          "metadata": {},
          "execution_count": 112
        }
      ]
    },
    {
      "cell_type": "code",
      "source": [
        "df.nunique()"
      ],
      "metadata": {
        "colab": {
          "base_uri": "https://localhost:8080/",
          "height": 554
        },
        "id": "7je5YGrqJfSe",
        "outputId": "aaa64a73-896d-4884-e24a-5a2b6a7d7097"
      },
      "execution_count": 113,
      "outputs": [
        {
          "output_type": "execute_result",
          "data": {
            "text/plain": [
              "index                  988\n",
              "Publishing Year        101\n",
              "Book Name              987\n",
              "Author                 669\n",
              "language_code            8\n",
              "Author_Rating            4\n",
              "Book_average_rating    133\n",
              "Book_ratings_count     983\n",
              "genre                    4\n",
              "gross sales            774\n",
              "publisher revenue      570\n",
              "sale price             143\n",
              "sales rank             818\n",
              "Publisher                9\n",
              "units sold             470\n",
              "dtype: int64"
            ],
            "text/html": [
              "<div>\n",
              "<style scoped>\n",
              "    .dataframe tbody tr th:only-of-type {\n",
              "        vertical-align: middle;\n",
              "    }\n",
              "\n",
              "    .dataframe tbody tr th {\n",
              "        vertical-align: top;\n",
              "    }\n",
              "\n",
              "    .dataframe thead th {\n",
              "        text-align: right;\n",
              "    }\n",
              "</style>\n",
              "<table border=\"1\" class=\"dataframe\">\n",
              "  <thead>\n",
              "    <tr style=\"text-align: right;\">\n",
              "      <th></th>\n",
              "      <th>0</th>\n",
              "    </tr>\n",
              "  </thead>\n",
              "  <tbody>\n",
              "    <tr>\n",
              "      <th>index</th>\n",
              "      <td>988</td>\n",
              "    </tr>\n",
              "    <tr>\n",
              "      <th>Publishing Year</th>\n",
              "      <td>101</td>\n",
              "    </tr>\n",
              "    <tr>\n",
              "      <th>Book Name</th>\n",
              "      <td>987</td>\n",
              "    </tr>\n",
              "    <tr>\n",
              "      <th>Author</th>\n",
              "      <td>669</td>\n",
              "    </tr>\n",
              "    <tr>\n",
              "      <th>language_code</th>\n",
              "      <td>8</td>\n",
              "    </tr>\n",
              "    <tr>\n",
              "      <th>Author_Rating</th>\n",
              "      <td>4</td>\n",
              "    </tr>\n",
              "    <tr>\n",
              "      <th>Book_average_rating</th>\n",
              "      <td>133</td>\n",
              "    </tr>\n",
              "    <tr>\n",
              "      <th>Book_ratings_count</th>\n",
              "      <td>983</td>\n",
              "    </tr>\n",
              "    <tr>\n",
              "      <th>genre</th>\n",
              "      <td>4</td>\n",
              "    </tr>\n",
              "    <tr>\n",
              "      <th>gross sales</th>\n",
              "      <td>774</td>\n",
              "    </tr>\n",
              "    <tr>\n",
              "      <th>publisher revenue</th>\n",
              "      <td>570</td>\n",
              "    </tr>\n",
              "    <tr>\n",
              "      <th>sale price</th>\n",
              "      <td>143</td>\n",
              "    </tr>\n",
              "    <tr>\n",
              "      <th>sales rank</th>\n",
              "      <td>818</td>\n",
              "    </tr>\n",
              "    <tr>\n",
              "      <th>Publisher</th>\n",
              "      <td>9</td>\n",
              "    </tr>\n",
              "    <tr>\n",
              "      <th>units sold</th>\n",
              "      <td>470</td>\n",
              "    </tr>\n",
              "  </tbody>\n",
              "</table>\n",
              "</div><br><label><b>dtype:</b> int64</label>"
            ]
          },
          "metadata": {},
          "execution_count": 113
        }
      ]
    },
    {
      "cell_type": "markdown",
      "source": [
        "##3. There are 988 rows now, in which unique book names are 987, meaning there is one duplicated book name"
      ],
      "metadata": {
        "id": "i9GPnpGJ4OPQ"
      }
    },
    {
      "cell_type": "code",
      "source": [
        "df[df['Book Name'].duplicated()]['Book Name']"
      ],
      "metadata": {
        "colab": {
          "base_uri": "https://localhost:8080/",
          "height": 115
        },
        "id": "Ma-7kzIj329U",
        "outputId": "2cce244b-83bd-4356-b694-f08d7f34a87c"
      },
      "execution_count": 114,
      "outputs": [
        {
          "output_type": "execute_result",
          "data": {
            "text/plain": [
              "933    Persepolis\n",
              "Name: Book Name, dtype: object"
            ],
            "text/html": [
              "<div>\n",
              "<style scoped>\n",
              "    .dataframe tbody tr th:only-of-type {\n",
              "        vertical-align: middle;\n",
              "    }\n",
              "\n",
              "    .dataframe tbody tr th {\n",
              "        vertical-align: top;\n",
              "    }\n",
              "\n",
              "    .dataframe thead th {\n",
              "        text-align: right;\n",
              "    }\n",
              "</style>\n",
              "<table border=\"1\" class=\"dataframe\">\n",
              "  <thead>\n",
              "    <tr style=\"text-align: right;\">\n",
              "      <th></th>\n",
              "      <th>Book Name</th>\n",
              "    </tr>\n",
              "  </thead>\n",
              "  <tbody>\n",
              "    <tr>\n",
              "      <th>933</th>\n",
              "      <td>Persepolis</td>\n",
              "    </tr>\n",
              "  </tbody>\n",
              "</table>\n",
              "</div><br><label><b>dtype:</b> object</label>"
            ]
          },
          "metadata": {},
          "execution_count": 114
        }
      ]
    },
    {
      "cell_type": "code",
      "source": [
        "df[df['Book Name'] == 'Persepolis']"
      ],
      "metadata": {
        "colab": {
          "base_uri": "https://localhost:8080/",
          "height": 305
        },
        "id": "Gyndu01f4C7i",
        "outputId": "90664836-1e4d-4a8d-82b6-8d435adc7075"
      },
      "execution_count": 115,
      "outputs": [
        {
          "output_type": "execute_result",
          "data": {
            "text/plain": [
              "     index  Publishing Year   Book Name  \\\n",
              "297    297           2000.0  Persepolis   \n",
              "933    933           2003.0  Persepolis   \n",
              "\n",
              "                                                Author language_code  \\\n",
              "297                      Marjane Satrapi, Mattias Ripa           eng   \n",
              "933  Marjane Satrapi, Mattias Ripa, Blake Ferris, A...         en-US   \n",
              "\n",
              "    Author_Rating  Book_average_rating  Book_ratings_count          genre  \\\n",
              "297     Excellent                 4.23              117103  genre fiction   \n",
              "933     Excellent                 4.36               71353     nonfiction   \n",
              "\n",
              "     gross sales  publisher revenue  sale price  sales rank  \\\n",
              "297      1487.02            892.212        4.99         321   \n",
              "933       108.90              0.000        0.99        1099   \n",
              "\n",
              "                         Publisher   units sold  \n",
              "297                Random House LLC         298  \n",
              "933  Amazon Digital Services,  Inc.        4320  "
            ],
            "text/html": [
              "\n",
              "  <div id=\"df-e5b147fe-6491-4fce-916c-fc60ef75cb65\" class=\"colab-df-container\">\n",
              "    <div>\n",
              "<style scoped>\n",
              "    .dataframe tbody tr th:only-of-type {\n",
              "        vertical-align: middle;\n",
              "    }\n",
              "\n",
              "    .dataframe tbody tr th {\n",
              "        vertical-align: top;\n",
              "    }\n",
              "\n",
              "    .dataframe thead th {\n",
              "        text-align: right;\n",
              "    }\n",
              "</style>\n",
              "<table border=\"1\" class=\"dataframe\">\n",
              "  <thead>\n",
              "    <tr style=\"text-align: right;\">\n",
              "      <th></th>\n",
              "      <th>index</th>\n",
              "      <th>Publishing Year</th>\n",
              "      <th>Book Name</th>\n",
              "      <th>Author</th>\n",
              "      <th>language_code</th>\n",
              "      <th>Author_Rating</th>\n",
              "      <th>Book_average_rating</th>\n",
              "      <th>Book_ratings_count</th>\n",
              "      <th>genre</th>\n",
              "      <th>gross sales</th>\n",
              "      <th>publisher revenue</th>\n",
              "      <th>sale price</th>\n",
              "      <th>sales rank</th>\n",
              "      <th>Publisher</th>\n",
              "      <th>units sold</th>\n",
              "    </tr>\n",
              "  </thead>\n",
              "  <tbody>\n",
              "    <tr>\n",
              "      <th>297</th>\n",
              "      <td>297</td>\n",
              "      <td>2000.0</td>\n",
              "      <td>Persepolis</td>\n",
              "      <td>Marjane Satrapi, Mattias Ripa</td>\n",
              "      <td>eng</td>\n",
              "      <td>Excellent</td>\n",
              "      <td>4.23</td>\n",
              "      <td>117103</td>\n",
              "      <td>genre fiction</td>\n",
              "      <td>1487.02</td>\n",
              "      <td>892.212</td>\n",
              "      <td>4.99</td>\n",
              "      <td>321</td>\n",
              "      <td>Random House LLC</td>\n",
              "      <td>298</td>\n",
              "    </tr>\n",
              "    <tr>\n",
              "      <th>933</th>\n",
              "      <td>933</td>\n",
              "      <td>2003.0</td>\n",
              "      <td>Persepolis</td>\n",
              "      <td>Marjane Satrapi, Mattias Ripa, Blake Ferris, A...</td>\n",
              "      <td>en-US</td>\n",
              "      <td>Excellent</td>\n",
              "      <td>4.36</td>\n",
              "      <td>71353</td>\n",
              "      <td>nonfiction</td>\n",
              "      <td>108.90</td>\n",
              "      <td>0.000</td>\n",
              "      <td>0.99</td>\n",
              "      <td>1099</td>\n",
              "      <td>Amazon Digital Services,  Inc.</td>\n",
              "      <td>4320</td>\n",
              "    </tr>\n",
              "  </tbody>\n",
              "</table>\n",
              "</div>\n",
              "    <div class=\"colab-df-buttons\">\n",
              "\n",
              "  <div class=\"colab-df-container\">\n",
              "    <button class=\"colab-df-convert\" onclick=\"convertToInteractive('df-e5b147fe-6491-4fce-916c-fc60ef75cb65')\"\n",
              "            title=\"Convert this dataframe to an interactive table.\"\n",
              "            style=\"display:none;\">\n",
              "\n",
              "  <svg xmlns=\"http://www.w3.org/2000/svg\" height=\"24px\" viewBox=\"0 -960 960 960\">\n",
              "    <path d=\"M120-120v-720h720v720H120Zm60-500h600v-160H180v160Zm220 220h160v-160H400v160Zm0 220h160v-160H400v160ZM180-400h160v-160H180v160Zm440 0h160v-160H620v160ZM180-180h160v-160H180v160Zm440 0h160v-160H620v160Z\"/>\n",
              "  </svg>\n",
              "    </button>\n",
              "\n",
              "  <style>\n",
              "    .colab-df-container {\n",
              "      display:flex;\n",
              "      gap: 12px;\n",
              "    }\n",
              "\n",
              "    .colab-df-convert {\n",
              "      background-color: #E8F0FE;\n",
              "      border: none;\n",
              "      border-radius: 50%;\n",
              "      cursor: pointer;\n",
              "      display: none;\n",
              "      fill: #1967D2;\n",
              "      height: 32px;\n",
              "      padding: 0 0 0 0;\n",
              "      width: 32px;\n",
              "    }\n",
              "\n",
              "    .colab-df-convert:hover {\n",
              "      background-color: #E2EBFA;\n",
              "      box-shadow: 0px 1px 2px rgba(60, 64, 67, 0.3), 0px 1px 3px 1px rgba(60, 64, 67, 0.15);\n",
              "      fill: #174EA6;\n",
              "    }\n",
              "\n",
              "    .colab-df-buttons div {\n",
              "      margin-bottom: 4px;\n",
              "    }\n",
              "\n",
              "    [theme=dark] .colab-df-convert {\n",
              "      background-color: #3B4455;\n",
              "      fill: #D2E3FC;\n",
              "    }\n",
              "\n",
              "    [theme=dark] .colab-df-convert:hover {\n",
              "      background-color: #434B5C;\n",
              "      box-shadow: 0px 1px 3px 1px rgba(0, 0, 0, 0.15);\n",
              "      filter: drop-shadow(0px 1px 2px rgba(0, 0, 0, 0.3));\n",
              "      fill: #FFFFFF;\n",
              "    }\n",
              "  </style>\n",
              "\n",
              "    <script>\n",
              "      const buttonEl =\n",
              "        document.querySelector('#df-e5b147fe-6491-4fce-916c-fc60ef75cb65 button.colab-df-convert');\n",
              "      buttonEl.style.display =\n",
              "        google.colab.kernel.accessAllowed ? 'block' : 'none';\n",
              "\n",
              "      async function convertToInteractive(key) {\n",
              "        const element = document.querySelector('#df-e5b147fe-6491-4fce-916c-fc60ef75cb65');\n",
              "        const dataTable =\n",
              "          await google.colab.kernel.invokeFunction('convertToInteractive',\n",
              "                                                    [key], {});\n",
              "        if (!dataTable) return;\n",
              "\n",
              "        const docLinkHtml = 'Like what you see? Visit the ' +\n",
              "          '<a target=\"_blank\" href=https://colab.research.google.com/notebooks/data_table.ipynb>data table notebook</a>'\n",
              "          + ' to learn more about interactive tables.';\n",
              "        element.innerHTML = '';\n",
              "        dataTable['output_type'] = 'display_data';\n",
              "        await google.colab.output.renderOutput(dataTable, element);\n",
              "        const docLink = document.createElement('div');\n",
              "        docLink.innerHTML = docLinkHtml;\n",
              "        element.appendChild(docLink);\n",
              "      }\n",
              "    </script>\n",
              "  </div>\n",
              "\n",
              "\n",
              "    <div id=\"df-cdb95b17-d915-4f7f-9880-737e054a20b8\">\n",
              "      <button class=\"colab-df-quickchart\" onclick=\"quickchart('df-cdb95b17-d915-4f7f-9880-737e054a20b8')\"\n",
              "                title=\"Suggest charts\"\n",
              "                style=\"display:none;\">\n",
              "\n",
              "<svg xmlns=\"http://www.w3.org/2000/svg\" height=\"24px\"viewBox=\"0 0 24 24\"\n",
              "     width=\"24px\">\n",
              "    <g>\n",
              "        <path d=\"M19 3H5c-1.1 0-2 .9-2 2v14c0 1.1.9 2 2 2h14c1.1 0 2-.9 2-2V5c0-1.1-.9-2-2-2zM9 17H7v-7h2v7zm4 0h-2V7h2v10zm4 0h-2v-4h2v4z\"/>\n",
              "    </g>\n",
              "</svg>\n",
              "      </button>\n",
              "\n",
              "<style>\n",
              "  .colab-df-quickchart {\n",
              "      --bg-color: #E8F0FE;\n",
              "      --fill-color: #1967D2;\n",
              "      --hover-bg-color: #E2EBFA;\n",
              "      --hover-fill-color: #174EA6;\n",
              "      --disabled-fill-color: #AAA;\n",
              "      --disabled-bg-color: #DDD;\n",
              "  }\n",
              "\n",
              "  [theme=dark] .colab-df-quickchart {\n",
              "      --bg-color: #3B4455;\n",
              "      --fill-color: #D2E3FC;\n",
              "      --hover-bg-color: #434B5C;\n",
              "      --hover-fill-color: #FFFFFF;\n",
              "      --disabled-bg-color: #3B4455;\n",
              "      --disabled-fill-color: #666;\n",
              "  }\n",
              "\n",
              "  .colab-df-quickchart {\n",
              "    background-color: var(--bg-color);\n",
              "    border: none;\n",
              "    border-radius: 50%;\n",
              "    cursor: pointer;\n",
              "    display: none;\n",
              "    fill: var(--fill-color);\n",
              "    height: 32px;\n",
              "    padding: 0;\n",
              "    width: 32px;\n",
              "  }\n",
              "\n",
              "  .colab-df-quickchart:hover {\n",
              "    background-color: var(--hover-bg-color);\n",
              "    box-shadow: 0 1px 2px rgba(60, 64, 67, 0.3), 0 1px 3px 1px rgba(60, 64, 67, 0.15);\n",
              "    fill: var(--button-hover-fill-color);\n",
              "  }\n",
              "\n",
              "  .colab-df-quickchart-complete:disabled,\n",
              "  .colab-df-quickchart-complete:disabled:hover {\n",
              "    background-color: var(--disabled-bg-color);\n",
              "    fill: var(--disabled-fill-color);\n",
              "    box-shadow: none;\n",
              "  }\n",
              "\n",
              "  .colab-df-spinner {\n",
              "    border: 2px solid var(--fill-color);\n",
              "    border-color: transparent;\n",
              "    border-bottom-color: var(--fill-color);\n",
              "    animation:\n",
              "      spin 1s steps(1) infinite;\n",
              "  }\n",
              "\n",
              "  @keyframes spin {\n",
              "    0% {\n",
              "      border-color: transparent;\n",
              "      border-bottom-color: var(--fill-color);\n",
              "      border-left-color: var(--fill-color);\n",
              "    }\n",
              "    20% {\n",
              "      border-color: transparent;\n",
              "      border-left-color: var(--fill-color);\n",
              "      border-top-color: var(--fill-color);\n",
              "    }\n",
              "    30% {\n",
              "      border-color: transparent;\n",
              "      border-left-color: var(--fill-color);\n",
              "      border-top-color: var(--fill-color);\n",
              "      border-right-color: var(--fill-color);\n",
              "    }\n",
              "    40% {\n",
              "      border-color: transparent;\n",
              "      border-right-color: var(--fill-color);\n",
              "      border-top-color: var(--fill-color);\n",
              "    }\n",
              "    60% {\n",
              "      border-color: transparent;\n",
              "      border-right-color: var(--fill-color);\n",
              "    }\n",
              "    80% {\n",
              "      border-color: transparent;\n",
              "      border-right-color: var(--fill-color);\n",
              "      border-bottom-color: var(--fill-color);\n",
              "    }\n",
              "    90% {\n",
              "      border-color: transparent;\n",
              "      border-bottom-color: var(--fill-color);\n",
              "    }\n",
              "  }\n",
              "</style>\n",
              "\n",
              "      <script>\n",
              "        async function quickchart(key) {\n",
              "          const quickchartButtonEl =\n",
              "            document.querySelector('#' + key + ' button');\n",
              "          quickchartButtonEl.disabled = true;  // To prevent multiple clicks.\n",
              "          quickchartButtonEl.classList.add('colab-df-spinner');\n",
              "          try {\n",
              "            const charts = await google.colab.kernel.invokeFunction(\n",
              "                'suggestCharts', [key], {});\n",
              "          } catch (error) {\n",
              "            console.error('Error during call to suggestCharts:', error);\n",
              "          }\n",
              "          quickchartButtonEl.classList.remove('colab-df-spinner');\n",
              "          quickchartButtonEl.classList.add('colab-df-quickchart-complete');\n",
              "        }\n",
              "        (() => {\n",
              "          let quickchartButtonEl =\n",
              "            document.querySelector('#df-cdb95b17-d915-4f7f-9880-737e054a20b8 button');\n",
              "          quickchartButtonEl.style.display =\n",
              "            google.colab.kernel.accessAllowed ? 'block' : 'none';\n",
              "        })();\n",
              "      </script>\n",
              "    </div>\n",
              "\n",
              "    </div>\n",
              "  </div>\n"
            ],
            "application/vnd.google.colaboratory.intrinsic+json": {
              "type": "dataframe",
              "summary": "{\n  \"name\": \"df[df['Book Name'] == 'Persepolis']\",\n  \"rows\": 2,\n  \"fields\": [\n    {\n      \"column\": \"index\",\n      \"properties\": {\n        \"dtype\": \"number\",\n        \"std\": 449,\n        \"min\": 297,\n        \"max\": 933,\n        \"num_unique_values\": 2,\n        \"samples\": [\n          933,\n          297\n        ],\n        \"semantic_type\": \"\",\n        \"description\": \"\"\n      }\n    },\n    {\n      \"column\": \"Publishing Year\",\n      \"properties\": {\n        \"dtype\": \"number\",\n        \"std\": 2.1213203435596424,\n        \"min\": 2000.0,\n        \"max\": 2003.0,\n        \"num_unique_values\": 2,\n        \"samples\": [\n          2003.0,\n          2000.0\n        ],\n        \"semantic_type\": \"\",\n        \"description\": \"\"\n      }\n    },\n    {\n      \"column\": \"Book Name\",\n      \"properties\": {\n        \"dtype\": \"string\",\n        \"num_unique_values\": 1,\n        \"samples\": [\n          \"Persepolis\"\n        ],\n        \"semantic_type\": \"\",\n        \"description\": \"\"\n      }\n    },\n    {\n      \"column\": \"Author\",\n      \"properties\": {\n        \"dtype\": \"string\",\n        \"num_unique_values\": 2,\n        \"samples\": [\n          \"Marjane Satrapi, Mattias Ripa, Blake Ferris, Anjali Singh\"\n        ],\n        \"semantic_type\": \"\",\n        \"description\": \"\"\n      }\n    },\n    {\n      \"column\": \"language_code\",\n      \"properties\": {\n        \"dtype\": \"string\",\n        \"num_unique_values\": 2,\n        \"samples\": [\n          \"en-US\"\n        ],\n        \"semantic_type\": \"\",\n        \"description\": \"\"\n      }\n    },\n    {\n      \"column\": \"Author_Rating\",\n      \"properties\": {\n        \"dtype\": \"string\",\n        \"num_unique_values\": 1,\n        \"samples\": [\n          \"Excellent\"\n        ],\n        \"semantic_type\": \"\",\n        \"description\": \"\"\n      }\n    },\n    {\n      \"column\": \"Book_average_rating\",\n      \"properties\": {\n        \"dtype\": \"number\",\n        \"std\": 0.0919238815542511,\n        \"min\": 4.23,\n        \"max\": 4.36,\n        \"num_unique_values\": 2,\n        \"samples\": [\n          4.36\n        ],\n        \"semantic_type\": \"\",\n        \"description\": \"\"\n      }\n    },\n    {\n      \"column\": \"Book_ratings_count\",\n      \"properties\": {\n        \"dtype\": \"number\",\n        \"std\": 32350,\n        \"min\": 71353,\n        \"max\": 117103,\n        \"num_unique_values\": 2,\n        \"samples\": [\n          71353\n        ],\n        \"semantic_type\": \"\",\n        \"description\": \"\"\n      }\n    },\n    {\n      \"column\": \"genre\",\n      \"properties\": {\n        \"dtype\": \"string\",\n        \"num_unique_values\": 2,\n        \"samples\": [\n          \"nonfiction\"\n        ],\n        \"semantic_type\": \"\",\n        \"description\": \"\"\n      }\n    },\n    {\n      \"column\": \"gross sales\",\n      \"properties\": {\n        \"dtype\": \"number\",\n        \"std\": 974.4779972888049,\n        \"min\": 108.9,\n        \"max\": 1487.02,\n        \"num_unique_values\": 2,\n        \"samples\": [\n          108.9\n        ],\n        \"semantic_type\": \"\",\n        \"description\": \"\"\n      }\n    },\n    {\n      \"column\": \"publisher revenue\",\n      \"properties\": {\n        \"dtype\": \"number\",\n        \"std\": 630.889155456012,\n        \"min\": 0.0,\n        \"max\": 892.212,\n        \"num_unique_values\": 2,\n        \"samples\": [\n          0.0\n        ],\n        \"semantic_type\": \"\",\n        \"description\": \"\"\n      }\n    },\n    {\n      \"column\": \"sale price\",\n      \"properties\": {\n        \"dtype\": \"number\",\n        \"std\": 2.8284271247461903,\n        \"min\": 0.99,\n        \"max\": 4.99,\n        \"num_unique_values\": 2,\n        \"samples\": [\n          0.99\n        ],\n        \"semantic_type\": \"\",\n        \"description\": \"\"\n      }\n    },\n    {\n      \"column\": \"sales rank\",\n      \"properties\": {\n        \"dtype\": \"number\",\n        \"std\": 550,\n        \"min\": 321,\n        \"max\": 1099,\n        \"num_unique_values\": 2,\n        \"samples\": [\n          1099\n        ],\n        \"semantic_type\": \"\",\n        \"description\": \"\"\n      }\n    },\n    {\n      \"column\": \"Publisher \",\n      \"properties\": {\n        \"dtype\": \"string\",\n        \"num_unique_values\": 2,\n        \"samples\": [\n          \"Amazon Digital Services,  Inc.\"\n        ],\n        \"semantic_type\": \"\",\n        \"description\": \"\"\n      }\n    },\n    {\n      \"column\": \"units sold\",\n      \"properties\": {\n        \"dtype\": \"number\",\n        \"std\": 2843,\n        \"min\": 298,\n        \"max\": 4320,\n        \"num_unique_values\": 2,\n        \"samples\": [\n          4320\n        ],\n        \"semantic_type\": \"\",\n        \"description\": \"\"\n      }\n    }\n  ]\n}"
            }
          },
          "metadata": {},
          "execution_count": 115
        }
      ]
    },
    {
      "cell_type": "markdown",
      "source": [
        "## Clearly, the second row is illogical, because:\n",
        "* there is zero publisher revenue, sale price and still there are 4320 units sold.\n",
        "* so drop this row"
      ],
      "metadata": {
        "id": "NU4hRoRP4IGS"
      }
    },
    {
      "cell_type": "code",
      "source": [
        "df.drop(933, inplace = True)"
      ],
      "metadata": {
        "id": "49JS1ZpB6aEg"
      },
      "execution_count": 116,
      "outputs": []
    },
    {
      "cell_type": "code",
      "source": [
        "df.nunique()"
      ],
      "metadata": {
        "colab": {
          "base_uri": "https://localhost:8080/",
          "height": 554
        },
        "id": "BPtls2dh6fvv",
        "outputId": "8931afad-48ec-4c75-b685-449040cc7968"
      },
      "execution_count": 117,
      "outputs": [
        {
          "output_type": "execute_result",
          "data": {
            "text/plain": [
              "index                  987\n",
              "Publishing Year        101\n",
              "Book Name              987\n",
              "Author                 668\n",
              "language_code            8\n",
              "Author_Rating            4\n",
              "Book_average_rating    133\n",
              "Book_ratings_count     982\n",
              "genre                    4\n",
              "gross sales            774\n",
              "publisher revenue      570\n",
              "sale price             143\n",
              "sales rank             818\n",
              "Publisher                9\n",
              "units sold             470\n",
              "dtype: int64"
            ],
            "text/html": [
              "<div>\n",
              "<style scoped>\n",
              "    .dataframe tbody tr th:only-of-type {\n",
              "        vertical-align: middle;\n",
              "    }\n",
              "\n",
              "    .dataframe tbody tr th {\n",
              "        vertical-align: top;\n",
              "    }\n",
              "\n",
              "    .dataframe thead th {\n",
              "        text-align: right;\n",
              "    }\n",
              "</style>\n",
              "<table border=\"1\" class=\"dataframe\">\n",
              "  <thead>\n",
              "    <tr style=\"text-align: right;\">\n",
              "      <th></th>\n",
              "      <th>0</th>\n",
              "    </tr>\n",
              "  </thead>\n",
              "  <tbody>\n",
              "    <tr>\n",
              "      <th>index</th>\n",
              "      <td>987</td>\n",
              "    </tr>\n",
              "    <tr>\n",
              "      <th>Publishing Year</th>\n",
              "      <td>101</td>\n",
              "    </tr>\n",
              "    <tr>\n",
              "      <th>Book Name</th>\n",
              "      <td>987</td>\n",
              "    </tr>\n",
              "    <tr>\n",
              "      <th>Author</th>\n",
              "      <td>668</td>\n",
              "    </tr>\n",
              "    <tr>\n",
              "      <th>language_code</th>\n",
              "      <td>8</td>\n",
              "    </tr>\n",
              "    <tr>\n",
              "      <th>Author_Rating</th>\n",
              "      <td>4</td>\n",
              "    </tr>\n",
              "    <tr>\n",
              "      <th>Book_average_rating</th>\n",
              "      <td>133</td>\n",
              "    </tr>\n",
              "    <tr>\n",
              "      <th>Book_ratings_count</th>\n",
              "      <td>982</td>\n",
              "    </tr>\n",
              "    <tr>\n",
              "      <th>genre</th>\n",
              "      <td>4</td>\n",
              "    </tr>\n",
              "    <tr>\n",
              "      <th>gross sales</th>\n",
              "      <td>774</td>\n",
              "    </tr>\n",
              "    <tr>\n",
              "      <th>publisher revenue</th>\n",
              "      <td>570</td>\n",
              "    </tr>\n",
              "    <tr>\n",
              "      <th>sale price</th>\n",
              "      <td>143</td>\n",
              "    </tr>\n",
              "    <tr>\n",
              "      <th>sales rank</th>\n",
              "      <td>818</td>\n",
              "    </tr>\n",
              "    <tr>\n",
              "      <th>Publisher</th>\n",
              "      <td>9</td>\n",
              "    </tr>\n",
              "    <tr>\n",
              "      <th>units sold</th>\n",
              "      <td>470</td>\n",
              "    </tr>\n",
              "  </tbody>\n",
              "</table>\n",
              "</div><br><label><b>dtype:</b> int64</label>"
            ]
          },
          "metadata": {},
          "execution_count": 117
        }
      ]
    },
    {
      "cell_type": "code",
      "source": [
        "df['genre'].unique()"
      ],
      "metadata": {
        "colab": {
          "base_uri": "https://localhost:8080/"
        },
        "id": "gT8rMbVx86I7",
        "outputId": "59de96fd-d902-4821-9472-6667a7047709"
      },
      "execution_count": 118,
      "outputs": [
        {
          "output_type": "execute_result",
          "data": {
            "text/plain": [
              "array(['genre fiction', 'fiction', 'nonfiction', 'children'], dtype=object)"
            ]
          },
          "metadata": {},
          "execution_count": 118
        }
      ]
    },
    {
      "cell_type": "markdown",
      "source": [
        "##4. Since 'genre fiction' and 'fiction' is the same thing, so replace it."
      ],
      "metadata": {
        "id": "1Fm3IUJW9P3p"
      }
    },
    {
      "cell_type": "code",
      "source": [
        "df['genre'] = df['genre'].replace('genre fiction','fiction')"
      ],
      "metadata": {
        "id": "qfRTRrb89Y0R"
      },
      "execution_count": 119,
      "outputs": []
    },
    {
      "cell_type": "code",
      "source": [
        "df['genre'].unique()"
      ],
      "metadata": {
        "colab": {
          "base_uri": "https://localhost:8080/"
        },
        "id": "b3zp9N9E9pxc",
        "outputId": "eb2bfa70-e6ac-4b4d-b266-4b126c83de67"
      },
      "execution_count": 120,
      "outputs": [
        {
          "output_type": "execute_result",
          "data": {
            "text/plain": [
              "array(['fiction', 'nonfiction', 'children'], dtype=object)"
            ]
          },
          "metadata": {},
          "execution_count": 120
        }
      ]
    },
    {
      "cell_type": "code",
      "source": [
        "df.nunique()"
      ],
      "metadata": {
        "colab": {
          "base_uri": "https://localhost:8080/",
          "height": 554
        },
        "id": "opSftjUE9xFO",
        "outputId": "26d66297-b75b-4a6e-8995-5644d785b0f2"
      },
      "execution_count": 121,
      "outputs": [
        {
          "output_type": "execute_result",
          "data": {
            "text/plain": [
              "index                  987\n",
              "Publishing Year        101\n",
              "Book Name              987\n",
              "Author                 668\n",
              "language_code            8\n",
              "Author_Rating            4\n",
              "Book_average_rating    133\n",
              "Book_ratings_count     982\n",
              "genre                    3\n",
              "gross sales            774\n",
              "publisher revenue      570\n",
              "sale price             143\n",
              "sales rank             818\n",
              "Publisher                9\n",
              "units sold             470\n",
              "dtype: int64"
            ],
            "text/html": [
              "<div>\n",
              "<style scoped>\n",
              "    .dataframe tbody tr th:only-of-type {\n",
              "        vertical-align: middle;\n",
              "    }\n",
              "\n",
              "    .dataframe tbody tr th {\n",
              "        vertical-align: top;\n",
              "    }\n",
              "\n",
              "    .dataframe thead th {\n",
              "        text-align: right;\n",
              "    }\n",
              "</style>\n",
              "<table border=\"1\" class=\"dataframe\">\n",
              "  <thead>\n",
              "    <tr style=\"text-align: right;\">\n",
              "      <th></th>\n",
              "      <th>0</th>\n",
              "    </tr>\n",
              "  </thead>\n",
              "  <tbody>\n",
              "    <tr>\n",
              "      <th>index</th>\n",
              "      <td>987</td>\n",
              "    </tr>\n",
              "    <tr>\n",
              "      <th>Publishing Year</th>\n",
              "      <td>101</td>\n",
              "    </tr>\n",
              "    <tr>\n",
              "      <th>Book Name</th>\n",
              "      <td>987</td>\n",
              "    </tr>\n",
              "    <tr>\n",
              "      <th>Author</th>\n",
              "      <td>668</td>\n",
              "    </tr>\n",
              "    <tr>\n",
              "      <th>language_code</th>\n",
              "      <td>8</td>\n",
              "    </tr>\n",
              "    <tr>\n",
              "      <th>Author_Rating</th>\n",
              "      <td>4</td>\n",
              "    </tr>\n",
              "    <tr>\n",
              "      <th>Book_average_rating</th>\n",
              "      <td>133</td>\n",
              "    </tr>\n",
              "    <tr>\n",
              "      <th>Book_ratings_count</th>\n",
              "      <td>982</td>\n",
              "    </tr>\n",
              "    <tr>\n",
              "      <th>genre</th>\n",
              "      <td>3</td>\n",
              "    </tr>\n",
              "    <tr>\n",
              "      <th>gross sales</th>\n",
              "      <td>774</td>\n",
              "    </tr>\n",
              "    <tr>\n",
              "      <th>publisher revenue</th>\n",
              "      <td>570</td>\n",
              "    </tr>\n",
              "    <tr>\n",
              "      <th>sale price</th>\n",
              "      <td>143</td>\n",
              "    </tr>\n",
              "    <tr>\n",
              "      <th>sales rank</th>\n",
              "      <td>818</td>\n",
              "    </tr>\n",
              "    <tr>\n",
              "      <th>Publisher</th>\n",
              "      <td>9</td>\n",
              "    </tr>\n",
              "    <tr>\n",
              "      <th>units sold</th>\n",
              "      <td>470</td>\n",
              "    </tr>\n",
              "  </tbody>\n",
              "</table>\n",
              "</div><br><label><b>dtype:</b> int64</label>"
            ]
          },
          "metadata": {},
          "execution_count": 121
        }
      ]
    },
    {
      "cell_type": "code",
      "source": [
        "lang_count = df['language_code'].value_counts()\n",
        "lang_count"
      ],
      "metadata": {
        "colab": {
          "base_uri": "https://localhost:8080/",
          "height": 366
        },
        "id": "fss8uvo2drQk",
        "outputId": "00238e20-2d68-4be4-c9de-7c0953a16d9d"
      },
      "execution_count": 122,
      "outputs": [
        {
          "output_type": "execute_result",
          "data": {
            "text/plain": [
              "language_code\n",
              "eng      670\n",
              "en-US    225\n",
              "en-GB     29\n",
              "en-CA      7\n",
              "fre        4\n",
              "spa        2\n",
              "ara        2\n",
              "nl         1\n",
              "Name: count, dtype: int64"
            ],
            "text/html": [
              "<div>\n",
              "<style scoped>\n",
              "    .dataframe tbody tr th:only-of-type {\n",
              "        vertical-align: middle;\n",
              "    }\n",
              "\n",
              "    .dataframe tbody tr th {\n",
              "        vertical-align: top;\n",
              "    }\n",
              "\n",
              "    .dataframe thead th {\n",
              "        text-align: right;\n",
              "    }\n",
              "</style>\n",
              "<table border=\"1\" class=\"dataframe\">\n",
              "  <thead>\n",
              "    <tr style=\"text-align: right;\">\n",
              "      <th></th>\n",
              "      <th>count</th>\n",
              "    </tr>\n",
              "    <tr>\n",
              "      <th>language_code</th>\n",
              "      <th></th>\n",
              "    </tr>\n",
              "  </thead>\n",
              "  <tbody>\n",
              "    <tr>\n",
              "      <th>eng</th>\n",
              "      <td>670</td>\n",
              "    </tr>\n",
              "    <tr>\n",
              "      <th>en-US</th>\n",
              "      <td>225</td>\n",
              "    </tr>\n",
              "    <tr>\n",
              "      <th>en-GB</th>\n",
              "      <td>29</td>\n",
              "    </tr>\n",
              "    <tr>\n",
              "      <th>en-CA</th>\n",
              "      <td>7</td>\n",
              "    </tr>\n",
              "    <tr>\n",
              "      <th>fre</th>\n",
              "      <td>4</td>\n",
              "    </tr>\n",
              "    <tr>\n",
              "      <th>spa</th>\n",
              "      <td>2</td>\n",
              "    </tr>\n",
              "    <tr>\n",
              "      <th>ara</th>\n",
              "      <td>2</td>\n",
              "    </tr>\n",
              "    <tr>\n",
              "      <th>nl</th>\n",
              "      <td>1</td>\n",
              "    </tr>\n",
              "  </tbody>\n",
              "</table>\n",
              "</div><br><label><b>dtype:</b> int64</label>"
            ]
          },
          "metadata": {},
          "execution_count": 122
        }
      ]
    },
    {
      "cell_type": "markdown",
      "source": [
        "## 5. We can clearly see that there are 4 variants of english and other 4 languages can come in other category. So, its better to have just 2 categories\n",
        "\n"
      ],
      "metadata": {
        "id": "IYjkod9PdtVb"
      }
    },
    {
      "cell_type": "code",
      "source": [
        "df['language_code'] = df['language_code'].replace(['eng','en-US','en-GB','en-CA'], 'english')\n",
        "df['language_code'] = df['language_code'].replace(['fre','spa','ara','nl'], 'other')"
      ],
      "metadata": {
        "id": "OsiE93h9eEqP"
      },
      "execution_count": 123,
      "outputs": []
    },
    {
      "cell_type": "code",
      "source": [
        "df['language_code'].value_counts()"
      ],
      "metadata": {
        "colab": {
          "base_uri": "https://localhost:8080/",
          "height": 178
        },
        "id": "Z5mvqiWGgLEP",
        "outputId": "6061927d-afb7-4fe2-fa94-f6f3b6422477"
      },
      "execution_count": 124,
      "outputs": [
        {
          "output_type": "execute_result",
          "data": {
            "text/plain": [
              "language_code\n",
              "english    931\n",
              "other        9\n",
              "Name: count, dtype: int64"
            ],
            "text/html": [
              "<div>\n",
              "<style scoped>\n",
              "    .dataframe tbody tr th:only-of-type {\n",
              "        vertical-align: middle;\n",
              "    }\n",
              "\n",
              "    .dataframe tbody tr th {\n",
              "        vertical-align: top;\n",
              "    }\n",
              "\n",
              "    .dataframe thead th {\n",
              "        text-align: right;\n",
              "    }\n",
              "</style>\n",
              "<table border=\"1\" class=\"dataframe\">\n",
              "  <thead>\n",
              "    <tr style=\"text-align: right;\">\n",
              "      <th></th>\n",
              "      <th>count</th>\n",
              "    </tr>\n",
              "    <tr>\n",
              "      <th>language_code</th>\n",
              "      <th></th>\n",
              "    </tr>\n",
              "  </thead>\n",
              "  <tbody>\n",
              "    <tr>\n",
              "      <th>english</th>\n",
              "      <td>931</td>\n",
              "    </tr>\n",
              "    <tr>\n",
              "      <th>other</th>\n",
              "      <td>9</td>\n",
              "    </tr>\n",
              "  </tbody>\n",
              "</table>\n",
              "</div><br><label><b>dtype:</b> int64</label>"
            ]
          },
          "metadata": {},
          "execution_count": 124
        }
      ]
    },
    {
      "cell_type": "markdown",
      "source": [
        "# Visual Exploration of Data\n",
        "\n",
        "\n"
      ],
      "metadata": {
        "id": "xLzN5g5E96jS"
      }
    },
    {
      "cell_type": "code",
      "source": [
        "plt.hist(df['Publishing Year'])\n",
        "plt.xlabel(\"publishing year\")\n",
        "plt.ylabel(\"frequency\")\n",
        "plt.title(\"No. of books published over years\")"
      ],
      "metadata": {
        "colab": {
          "base_uri": "https://localhost:8080/",
          "height": 489
        },
        "id": "H848xU2eJxhg",
        "outputId": "8301698f-0c6c-4211-d899-15009f3972c7"
      },
      "execution_count": 125,
      "outputs": [
        {
          "output_type": "execute_result",
          "data": {
            "text/plain": [
              "Text(0.5, 1.0, 'No. of books published over years')"
            ]
          },
          "metadata": {},
          "execution_count": 125
        },
        {
          "output_type": "display_data",
          "data": {
            "text/plain": [
              "<Figure size 640x480 with 1 Axes>"
            ],
            "image/png": "[encoded data removed]"
          },
          "metadata": {}
        }
      ]
    },
    {
      "cell_type": "markdown",
      "source": [
        "## 1. Books sales has increased with time"
      ],
      "metadata": {
        "id": "3lclo_JbK-aB"
      }
    },
    {
      "cell_type": "code",
      "source": [
        "# max year\n",
        "df['Publishing Year'].max()"
      ],
      "metadata": {
        "colab": {
          "base_uri": "https://localhost:8080/"
        },
        "id": "d-KT6z1UKRh5",
        "outputId": "e7aa964c-7047-44f0-a8e7-d692080658cd"
      },
      "execution_count": 126,
      "outputs": [
        {
          "output_type": "execute_result",
          "data": {
            "text/plain": [
              "2016.0"
            ]
          },
          "metadata": {},
          "execution_count": 126
        }
      ]
    },
    {
      "cell_type": "code",
      "source": [
        "df['genre'].value_counts().plot(kind='bar')\n",
        "plt.xlabel(\"Genre\")\n",
        "plt.ylabel(\"No. of books\")\n",
        "plt.title(\"No. of books in each genre\")"
      ],
      "metadata": {
        "colab": {
          "base_uri": "https://localhost:8080/",
          "height": 544
        },
        "id": "dktagcOyKsfU",
        "outputId": "8526fddd-6e6d-49bc-d3d8-b33f93596ad0"
      },
      "execution_count": 127,
      "outputs": [
        {
          "output_type": "execute_result",
          "data": {
            "text/plain": [
              "Text(0.5, 1.0, 'No. of books in each genre')"
            ]
          },
          "metadata": {},
          "execution_count": 127
        },
        {
          "output_type": "display_data",
          "data": {
            "text/plain": [
              "<Figure size 640x480 with 1 Axes>"
            ],
            "image/png": "[encoded data removed]"
          },
          "metadata": {}
        }
      ]
    },
    {
      "cell_type": "markdown",
      "source": [
        "## 2. Maximum books are of 'fiction' genre"
      ],
      "metadata": {
        "id": "F6PzWG5LEzFe"
      }
    },
    {
      "cell_type": "code",
      "source": [
        "df.groupby('Author')['Book_average_rating'].mean().sort_values(ascending=False).plot(kind='hist')"
      ],
      "metadata": {
        "colab": {
          "base_uri": "https://localhost:8080/",
          "height": 447
        },
        "id": "NJtpc2e5FOgr",
        "outputId": "e0bd9942-3694-4c44-8d31-0512607b2bf3"
      },
      "execution_count": 128,
      "outputs": [
        {
          "output_type": "execute_result",
          "data": {
            "text/plain": [
              "<Axes: ylabel='Frequency'>"
            ]
          },
          "metadata": {},
          "execution_count": 128
        },
        {
          "output_type": "display_data",
          "data": {
            "text/plain": [
              "<Figure size 640x480 with 1 Axes>"
            ],
            "image/png": "[encoded data removed]"
          },
          "metadata": {}
        }
      ]
    },
    {
      "cell_type": "markdown",
      "source": [
        "## 3. Maximum no. of authors have got rating of around 4 and it gradually decreased, meaning authors with 4.5+ rating are less"
      ],
      "metadata": {
        "id": "ovMjtpbtGjRp"
      }
    },
    {
      "cell_type": "code",
      "source": [
        "df.groupby('Author')['Book_average_rating'].mean().sort_values(ascending=False).head(1)"
      ],
      "metadata": {
        "colab": {
          "base_uri": "https://localhost:8080/",
          "height": 146
        },
        "id": "FrZNCY9tMEUt",
        "outputId": "2e389441-c152-4507-fe0f-b0c16519f07e"
      },
      "execution_count": 129,
      "outputs": [
        {
          "output_type": "execute_result",
          "data": {
            "text/plain": [
              "Author\n",
              "Bill Watterson    4.65\n",
              "Name: Book_average_rating, dtype: float64"
            ],
            "text/html": [
              "<div>\n",
              "<style scoped>\n",
              "    .dataframe tbody tr th:only-of-type {\n",
              "        vertical-align: middle;\n",
              "    }\n",
              "\n",
              "    .dataframe tbody tr th {\n",
              "        vertical-align: top;\n",
              "    }\n",
              "\n",
              "    .dataframe thead th {\n",
              "        text-align: right;\n",
              "    }\n",
              "</style>\n",
              "<table border=\"1\" class=\"dataframe\">\n",
              "  <thead>\n",
              "    <tr style=\"text-align: right;\">\n",
              "      <th></th>\n",
              "      <th>Book_average_rating</th>\n",
              "    </tr>\n",
              "    <tr>\n",
              "      <th>Author</th>\n",
              "      <th></th>\n",
              "    </tr>\n",
              "  </thead>\n",
              "  <tbody>\n",
              "    <tr>\n",
              "      <th>Bill Watterson</th>\n",
              "      <td>4.65</td>\n",
              "    </tr>\n",
              "  </tbody>\n",
              "</table>\n",
              "</div><br><label><b>dtype:</b> float64</label>"
            ]
          },
          "metadata": {},
          "execution_count": 129
        }
      ]
    },
    {
      "cell_type": "markdown",
      "source": [
        "##Bill Watterson has got maximum rating of 4.6"
      ],
      "metadata": {
        "id": "x5As10nBIbOx"
      }
    },
    {
      "cell_type": "code",
      "source": [
        "sns.boxplot(data=df, x='genre', y='Book_ratings_count', hue='genre')\n",
        "plt.xlabel(\"genre\")\n",
        "plt.ylabel(\"book ratings count\")\n",
        "plt.title(\"Box plot of books ratings count for each genre\")\n",
        "# df.head()"
      ],
      "metadata": {
        "id": "Yxdhqa4sUe-z",
        "colab": {
          "base_uri": "https://localhost:8080/",
          "height": 489
        },
        "outputId": "cf0fba67-93d4-4512-8d6b-5e0fd2722195"
      },
      "execution_count": 130,
      "outputs": [
        {
          "output_type": "execute_result",
          "data": {
            "text/plain": [
              "Text(0.5, 1.0, 'Box plot of books ratings count for each genre')"
            ]
          },
          "metadata": {},
          "execution_count": 130
        },
        {
          "output_type": "display_data",
          "data": {
            "text/plain": [
              "<Figure size 640x480 with 1 Axes>"
            ],
            "image/png": "[encoded data removed]"
          },
          "metadata": {}
        }
      ]
    },
    {
      "cell_type": "markdown",
      "source": [
        "## 4. Maximum ratings are given to fiction, which is obvious because fiction genre has maximum no. of books, then non fiction and then children"
      ],
      "metadata": {
        "id": "INDwB4ocXTVW"
      }
    },
    {
      "cell_type": "code",
      "source": [
        "# df['units sold'].plot(kind='hist')\n",
        "sns.scatterplot(data=df, x='Publishing Year', y='units sold')"
      ],
      "metadata": {
        "colab": {
          "base_uri": "https://localhost:8080/",
          "height": 466
        },
        "id": "02dxrRa4dPaJ",
        "outputId": "f13176ba-9c0a-43a4-8bb9-2b82e86507cd"
      },
      "execution_count": 131,
      "outputs": [
        {
          "output_type": "execute_result",
          "data": {
            "text/plain": [
              "<Axes: xlabel='Publishing Year', ylabel='units sold'>"
            ]
          },
          "metadata": {},
          "execution_count": 131
        },
        {
          "output_type": "display_data",
          "data": {
            "text/plain": [
              "<Figure size 640x480 with 1 Axes>"
            ],
            "image/png": "[encoded data removed]"
          },
          "metadata": {}
        }
      ]
    },
    {
      "cell_type": "markdown",
      "source": [
        "## 5. this concludes that either books were sold really well(above 25000) or didn't sell much at all(below 8000)"
      ],
      "metadata": {
        "id": "CHdhE92fdS1n"
      }
    },
    {
      "cell_type": "code",
      "source": [
        "sns.relplot(data=df, x='sale price', y='units sold', kind = 'scatter',col='genre')\n",
        "plt.xlabel(\"sale price\")\n",
        "plt.ylabel(\"units sold\")"
      ],
      "metadata": {
        "colab": {
          "base_uri": "https://localhost:8080/",
          "height": 415
        },
        "id": "-NOq11PZbS-L",
        "outputId": "a62956a3-d7a0-4aa9-a297-ef7286a6124b"
      },
      "execution_count": 132,
      "outputs": [
        {
          "output_type": "execute_result",
          "data": {
            "text/plain": [
              "Text(1012.4490740740741, 0.5, 'units sold')"
            ]
          },
          "metadata": {},
          "execution_count": 132
        },
        {
          "output_type": "display_data",
          "data": {
            "text/plain": [
              "<Figure size 1500x500 with 3 Axes>"
            ],
            "image/png": "[encoded data removed]"
          },
          "metadata": {}
        }
      ]
    },
    {
      "cell_type": "markdown",
      "source": [
        "## 6.\n",
        "## -> many high selling books are still low priced\n",
        "## -> fiction and non fiction books show similar behaviour with more no. of books in fiction\n",
        "## -> children books were sold very few"
      ],
      "metadata": {
        "id": "ZSDCosgWejeK"
      }
    },
    {
      "cell_type": "code",
      "source": [
        "df['language_code'].value_counts().plot(kind='pie', autopct = '%0.1f%%', startangle = 45)\n",
        "plt.show()"
      ],
      "metadata": {
        "colab": {
          "base_uri": "https://localhost:8080/",
          "height": 406
        },
        "id": "xRKFn5_zce52",
        "outputId": "0fc4b9cd-f1ad-4642-ed4d-bc0ea52fd9b0"
      },
      "execution_count": 142,
      "outputs": [
        {
          "output_type": "display_data",
          "data": {
            "text/plain": [
              "<Figure size 640x480 with 1 Axes>"
            ],
            "image/png": "[encoded data removed]"
          },
          "metadata": {}
        }
      ]
    },
    {
      "cell_type": "markdown",
      "source": [
        "## 7. 99% books are of english language and only 1% are of other"
      ],
      "metadata": {
        "id": "fTl-5H03gmzF"
      }
    },
    {
      "cell_type": "code",
      "source": [
        "publisher_data = df.groupby('Publisher ')['publisher revenue'].sum().sort_values(ascending=False)\n",
        "publisher_data"
      ],
      "metadata": {
        "colab": {
          "base_uri": "https://localhost:8080/",
          "height": 397
        },
        "id": "-uBgb75FgM1u",
        "outputId": "2bbaf0ed-17e4-4dd9-d58d-f00687757496"
      },
      "execution_count": 148,
      "outputs": [
        {
          "output_type": "execute_result",
          "data": {
            "text/plain": [
              "Publisher \n",
              "Penguin Group (USA) LLC                 191581.104\n",
              "Random House LLC                        174956.244\n",
              "Amazon Digital Services,  Inc.          141767.772\n",
              "HarperCollins Publishers                121769.814\n",
              "Hachette Book Group                     107410.968\n",
              "Simon and Schuster Digital Sales Inc     46858.206\n",
              "Macmillan                                31249.830\n",
              "HarperCollins Publishing                  2830.806\n",
              "HarperCollins Christian Publishing        2135.670\n",
              "Name: publisher revenue, dtype: float64"
            ],
            "text/html": [
              "<div>\n",
              "<style scoped>\n",
              "    .dataframe tbody tr th:only-of-type {\n",
              "        vertical-align: middle;\n",
              "    }\n",
              "\n",
              "    .dataframe tbody tr th {\n",
              "        vertical-align: top;\n",
              "    }\n",
              "\n",
              "    .dataframe thead th {\n",
              "        text-align: right;\n",
              "    }\n",
              "</style>\n",
              "<table border=\"1\" class=\"dataframe\">\n",
              "  <thead>\n",
              "    <tr style=\"text-align: right;\">\n",
              "      <th></th>\n",
              "      <th>publisher revenue</th>\n",
              "    </tr>\n",
              "    <tr>\n",
              "      <th>Publisher</th>\n",
              "      <th></th>\n",
              "    </tr>\n",
              "  </thead>\n",
              "  <tbody>\n",
              "    <tr>\n",
              "      <th>Penguin Group (USA) LLC</th>\n",
              "      <td>191581.104</td>\n",
              "    </tr>\n",
              "    <tr>\n",
              "      <th>Random House LLC</th>\n",
              "      <td>174956.244</td>\n",
              "    </tr>\n",
              "    <tr>\n",
              "      <th>Amazon Digital Services,  Inc.</th>\n",
              "      <td>141767.772</td>\n",
              "    </tr>\n",
              "    <tr>\n",
              "      <th>HarperCollins Publishers</th>\n",
              "      <td>121769.814</td>\n",
              "    </tr>\n",
              "    <tr>\n",
              "      <th>Hachette Book Group</th>\n",
              "      <td>107410.968</td>\n",
              "    </tr>\n",
              "    <tr>\n",
              "      <th>Simon and Schuster Digital Sales Inc</th>\n",
              "      <td>46858.206</td>\n",
              "    </tr>\n",
              "    <tr>\n",
              "      <th>Macmillan</th>\n",
              "      <td>31249.830</td>\n",
              "    </tr>\n",
              "    <tr>\n",
              "      <th>HarperCollins Publishing</th>\n",
              "      <td>2830.806</td>\n",
              "    </tr>\n",
              "    <tr>\n",
              "      <th>HarperCollins Christian Publishing</th>\n",
              "      <td>2135.670</td>\n",
              "    </tr>\n",
              "  </tbody>\n",
              "</table>\n",
              "</div><br><label><b>dtype:</b> float64</label>"
            ]
          },
          "metadata": {},
          "execution_count": 148
        }
      ]
    },
    {
      "cell_type": "code",
      "source": [
        "plt.bar(publisher_data.index, publisher_data.values)\n",
        "plt.xlabel(\"Publisher\")\n",
        "plt.ylabel(\"Publisher's total revenue\")\n",
        "plt.xticks(rotation=90)\n",
        "plt.show()"
      ],
      "metadata": {
        "colab": {
          "base_uri": "https://localhost:8080/",
          "height": 694
        },
        "id": "VUFq6fgBig1I",
        "outputId": "3436cae1-5c66-43fc-da41-1504905915ab"
      },
      "execution_count": 149,
      "outputs": [
        {
          "output_type": "display_data",
          "data": {
            "text/plain": [
              "<Figure size 640x480 with 1 Axes>"
            ],
            "image/png": "[encoded data removed]"
          },
          "metadata": {}
        }
      ]
    },
    {
      "cell_type": "markdown",
      "source": [
        "## 8. Penguin Group made the most revenue and HCCP the least"
      ],
      "metadata": {
        "id": "1U1yGnSSkxGA"
      }
    },
    {
      "cell_type": "code",
      "source": [
        "df.groupby('Publisher ')['units sold'].sum().sort_values(ascending=False)"
      ],
      "metadata": {
        "colab": {
          "base_uri": "https://localhost:8080/",
          "height": 397
        },
        "id": "XkFigxOhjOIK",
        "outputId": "d9bc5399-4b38-4286-955c-094fb71b133d"
      },
      "execution_count": 152,
      "outputs": [
        {
          "output_type": "execute_result",
          "data": {
            "text/plain": [
              "Publisher \n",
              "Amazon Digital Services,  Inc.          5703429\n",
              "Random House LLC                        1257293\n",
              "Penguin Group (USA) LLC                  848160\n",
              "HarperCollins Publishers                 535959\n",
              "Hachette Book Group                      520554\n",
              "Simon and Schuster Digital Sales Inc     497648\n",
              "Macmillan                                292053\n",
              "HarperCollins Publishing                  44358\n",
              "HarperCollins Christian Publishing        41527\n",
              "Name: units sold, dtype: int64"
            ],
            "text/html": [
              "<div>\n",
              "<style scoped>\n",
              "    .dataframe tbody tr th:only-of-type {\n",
              "        vertical-align: middle;\n",
              "    }\n",
              "\n",
              "    .dataframe tbody tr th {\n",
              "        vertical-align: top;\n",
              "    }\n",
              "\n",
              "    .dataframe thead th {\n",
              "        text-align: right;\n",
              "    }\n",
              "</style>\n",
              "<table border=\"1\" class=\"dataframe\">\n",
              "  <thead>\n",
              "    <tr style=\"text-align: right;\">\n",
              "      <th></th>\n",
              "      <th>units sold</th>\n",
              "    </tr>\n",
              "    <tr>\n",
              "      <th>Publisher</th>\n",
              "      <th></th>\n",
              "    </tr>\n",
              "  </thead>\n",
              "  <tbody>\n",
              "    <tr>\n",
              "      <th>Amazon Digital Services,  Inc.</th>\n",
              "      <td>5703429</td>\n",
              "    </tr>\n",
              "    <tr>\n",
              "      <th>Random House LLC</th>\n",
              "      <td>1257293</td>\n",
              "    </tr>\n",
              "    <tr>\n",
              "      <th>Penguin Group (USA) LLC</th>\n",
              "      <td>848160</td>\n",
              "    </tr>\n",
              "    <tr>\n",
              "      <th>HarperCollins Publishers</th>\n",
              "      <td>535959</td>\n",
              "    </tr>\n",
              "    <tr>\n",
              "      <th>Hachette Book Group</th>\n",
              "      <td>520554</td>\n",
              "    </tr>\n",
              "    <tr>\n",
              "      <th>Simon and Schuster Digital Sales Inc</th>\n",
              "      <td>497648</td>\n",
              "    </tr>\n",
              "    <tr>\n",
              "      <th>Macmillan</th>\n",
              "      <td>292053</td>\n",
              "    </tr>\n",
              "    <tr>\n",
              "      <th>HarperCollins Publishing</th>\n",
              "      <td>44358</td>\n",
              "    </tr>\n",
              "    <tr>\n",
              "      <th>HarperCollins Christian Publishing</th>\n",
              "      <td>41527</td>\n",
              "    </tr>\n",
              "  </tbody>\n",
              "</table>\n",
              "</div><br><label><b>dtype:</b> int64</label>"
            ]
          },
          "metadata": {},
          "execution_count": 152
        }
      ]
    },
    {
      "cell_type": "code",
      "source": [
        "df.groupby('Publisher ')['units sold'].sum().sort_values(ascending=False).plot(kind = 'bar')"
      ],
      "metadata": {
        "colab": {
          "base_uri": "https://localhost:8080/",
          "height": 722
        },
        "id": "ZFFuNzUbkFLq",
        "outputId": "a6b6a88b-fe21-47ad-a3dc-c37506c657ca"
      },
      "execution_count": 153,
      "outputs": [
        {
          "output_type": "execute_result",
          "data": {
            "text/plain": [
              "<Axes: xlabel='Publisher '>"
            ]
          },
          "metadata": {},
          "execution_count": 153
        },
        {
          "output_type": "display_data",
          "data": {
            "text/plain": [
              "<Figure size 640x480 with 1 Axes>"
            ],
            "image/png": "[encoded data removed]"
          },
          "metadata": {}
        }
      ]
    },
    {
      "cell_type": "markdown",
      "source": [
        "##9. Amazon Digital Services sold around 5.7 Million units, then other publishers sold below 1.2 Million, and this is the main reason why we saw a gap in units sold, it is because of Publisher"
      ],
      "metadata": {
        "id": "kK452hb6jkS4"
      }
    },
    {
      "cell_type": "code",
      "source": [
        "book_rating = df.groupby(\"Author_Rating\")['Book_ratings_count'].mean().sort_values(ascending=False)\n",
        "book_rating"
      ],
      "metadata": {
        "colab": {
          "base_uri": "https://localhost:8080/",
          "height": 241
        },
        "id": "Fc0LVLIXjFme",
        "outputId": "1499eced-4068-4af5-bd80-7418fb10171c"
      },
      "execution_count": 154,
      "outputs": [
        {
          "output_type": "execute_result",
          "data": {
            "text/plain": [
              "Author_Rating\n",
              "Intermediate    101400.272569\n",
              "Famous           98295.250000\n",
              "Novice           87318.464286\n",
              "Excellent        83841.970149\n",
              "Name: Book_ratings_count, dtype: float64"
            ],
            "text/html": [
              "<div>\n",
              "<style scoped>\n",
              "    .dataframe tbody tr th:only-of-type {\n",
              "        vertical-align: middle;\n",
              "    }\n",
              "\n",
              "    .dataframe tbody tr th {\n",
              "        vertical-align: top;\n",
              "    }\n",
              "\n",
              "    .dataframe thead th {\n",
              "        text-align: right;\n",
              "    }\n",
              "</style>\n",
              "<table border=\"1\" class=\"dataframe\">\n",
              "  <thead>\n",
              "    <tr style=\"text-align: right;\">\n",
              "      <th></th>\n",
              "      <th>Book_ratings_count</th>\n",
              "    </tr>\n",
              "    <tr>\n",
              "      <th>Author_Rating</th>\n",
              "      <th></th>\n",
              "    </tr>\n",
              "  </thead>\n",
              "  <tbody>\n",
              "    <tr>\n",
              "      <th>Intermediate</th>\n",
              "      <td>101400.272569</td>\n",
              "    </tr>\n",
              "    <tr>\n",
              "      <th>Famous</th>\n",
              "      <td>98295.250000</td>\n",
              "    </tr>\n",
              "    <tr>\n",
              "      <th>Novice</th>\n",
              "      <td>87318.464286</td>\n",
              "    </tr>\n",
              "    <tr>\n",
              "      <th>Excellent</th>\n",
              "      <td>83841.970149</td>\n",
              "    </tr>\n",
              "  </tbody>\n",
              "</table>\n",
              "</div><br><label><b>dtype:</b> float64</label>"
            ]
          },
          "metadata": {},
          "execution_count": 154
        }
      ]
    },
    {
      "cell_type": "code",
      "source": [
        "plt.bar(book_rating.index, book_rating.values)"
      ],
      "metadata": {
        "colab": {
          "base_uri": "https://localhost:8080/",
          "height": 447
        },
        "id": "DmH3tcmcl7eN",
        "outputId": "a54ab088-129b-4388-b158-b71c10fdcec6"
      },
      "execution_count": 155,
      "outputs": [
        {
          "output_type": "execute_result",
          "data": {
            "text/plain": [
              "<BarContainer object of 4 artists>"
            ]
          },
          "metadata": {},
          "execution_count": 155
        },
        {
          "output_type": "display_data",
          "data": {
            "text/plain": [
              "<Figure size 640x480 with 1 Axes>"
            ],
            "image/png": "[encoded data removed]"
          },
          "metadata": {}
        }
      ]
    },
    {
      "cell_type": "markdown",
      "source": [
        "## 10. maximum rating given by people is 'intermediate'"
      ],
      "metadata": {
        "id": "7ploCn2OmxeC"
      }
    },
    {
      "cell_type": "code",
      "source": [
        "df.groupby(\"Author_Rating\")['Book_ratings_count'].describe()"
      ],
      "metadata": {
        "colab": {
          "base_uri": "https://localhost:8080/",
          "height": 206
        },
        "id": "wnI5TVJ6nJr9",
        "outputId": "eceae4ac-56b1-43b5-9d86-43ffec632853"
      },
      "execution_count": 158,
      "outputs": [
        {
          "output_type": "execute_result",
          "data": {
            "text/plain": [
              "               count           mean           std      min       25%      50%  \\\n",
              "Author_Rating                                                                   \n",
              "Excellent      335.0   83841.970149  21043.845092  32626.0  68849.50  81621.0   \n",
              "Famous          48.0   98295.250000  35036.475144  54977.0  72968.25  90527.0   \n",
              "Intermediate   576.0  101400.272569  34210.096082  27308.0  72933.50  98254.5   \n",
              "Novice          28.0   87318.464286  30859.612389  42339.0  63638.25  77446.5   \n",
              "\n",
              "                     75%       max  \n",
              "Author_Rating                       \n",
              "Excellent       97507.50  167848.0  \n",
              "Famous         113070.50  206792.0  \n",
              "Intermediate   125439.25  199872.0  \n",
              "Novice         105349.25  155903.0  "
            ],
            "text/html": [
              "\n",
              "  <div id=\"df-cb07dab3-2f6e-4f47-83fc-ca868adb5493\" class=\"colab-df-container\">\n",
              "    <div>\n",
              "<style scoped>\n",
              "    .dataframe tbody tr th:only-of-type {\n",
              "        vertical-align: middle;\n",
              "    }\n",
              "\n",
              "    .dataframe tbody tr th {\n",
              "        vertical-align: top;\n",
              "    }\n",
              "\n",
              "    .dataframe thead th {\n",
              "        text-align: right;\n",
              "    }\n",
              "</style>\n",
              "<table border=\"1\" class=\"dataframe\">\n",
              "  <thead>\n",
              "    <tr style=\"text-align: right;\">\n",
              "      <th></th>\n",
              "      <th>count</th>\n",
              "      <th>mean</th>\n",
              "      <th>std</th>\n",
              "      <th>min</th>\n",
              "      <th>25%</th>\n",
              "      <th>50%</th>\n",
              "      <th>75%</th>\n",
              "      <th>max</th>\n",
              "    </tr>\n",
              "    <tr>\n",
              "      <th>Author_Rating</th>\n",
              "      <th></th>\n",
              "      <th></th>\n",
              "      <th></th>\n",
              "      <th></th>\n",
              "      <th></th>\n",
              "      <th></th>\n",
              "      <th></th>\n",
              "      <th></th>\n",
              "    </tr>\n",
              "  </thead>\n",
              "  <tbody>\n",
              "    <tr>\n",
              "      <th>Excellent</th>\n",
              "      <td>335.0</td>\n",
              "      <td>83841.970149</td>\n",
              "      <td>21043.845092</td>\n",
              "      <td>32626.0</td>\n",
              "      <td>68849.50</td>\n",
              "      <td>81621.0</td>\n",
              "      <td>97507.50</td>\n",
              "      <td>167848.0</td>\n",
              "    </tr>\n",
              "    <tr>\n",
              "      <th>Famous</th>\n",
              "      <td>48.0</td>\n",
              "      <td>98295.250000</td>\n",
              "      <td>35036.475144</td>\n",
              "      <td>54977.0</td>\n",
              "      <td>72968.25</td>\n",
              "      <td>90527.0</td>\n",
              "      <td>113070.50</td>\n",
              "      <td>206792.0</td>\n",
              "    </tr>\n",
              "    <tr>\n",
              "      <th>Intermediate</th>\n",
              "      <td>576.0</td>\n",
              "      <td>101400.272569</td>\n",
              "      <td>34210.096082</td>\n",
              "      <td>27308.0</td>\n",
              "      <td>72933.50</td>\n",
              "      <td>98254.5</td>\n",
              "      <td>125439.25</td>\n",
              "      <td>199872.0</td>\n",
              "    </tr>\n",
              "    <tr>\n",
              "      <th>Novice</th>\n",
              "      <td>28.0</td>\n",
              "      <td>87318.464286</td>\n",
              "      <td>30859.612389</td>\n",
              "      <td>42339.0</td>\n",
              "      <td>63638.25</td>\n",
              "      <td>77446.5</td>\n",
              "      <td>105349.25</td>\n",
              "      <td>155903.0</td>\n",
              "    </tr>\n",
              "  </tbody>\n",
              "</table>\n",
              "</div>\n",
              "    <div class=\"colab-df-buttons\">\n",
              "\n",
              "  <div class=\"colab-df-container\">\n",
              "    <button class=\"colab-df-convert\" onclick=\"convertToInteractive('df-cb07dab3-2f6e-4f47-83fc-ca868adb5493')\"\n",
              "            title=\"Convert this dataframe to an interactive table.\"\n",
              "            style=\"display:none;\">\n",
              "\n",
              "  <svg xmlns=\"http://www.w3.org/2000/svg\" height=\"24px\" viewBox=\"0 -960 960 960\">\n",
              "    <path d=\"M120-120v-720h720v720H120Zm60-500h600v-160H180v160Zm220 220h160v-160H400v160Zm0 220h160v-160H400v160ZM180-400h160v-160H180v160Zm440 0h160v-160H620v160ZM180-180h160v-160H180v160Zm440 0h160v-160H620v160Z\"/>\n",
              "  </svg>\n",
              "    </button>\n",
              "\n",
              "  <style>\n",
              "    .colab-df-container {\n",
              "      display:flex;\n",
              "      gap: 12px;\n",
              "    }\n",
              "\n",
              "    .colab-df-convert {\n",
              "      background-color: #E8F0FE;\n",
              "      border: none;\n",
              "      border-radius: 50%;\n",
              "      cursor: pointer;\n",
              "      display: none;\n",
              "      fill: #1967D2;\n",
              "      height: 32px;\n",
              "      padding: 0 0 0 0;\n",
              "      width: 32px;\n",
              "    }\n",
              "\n",
              "    .colab-df-convert:hover {\n",
              "      background-color: #E2EBFA;\n",
              "      box-shadow: 0px 1px 2px rgba(60, 64, 67, 0.3), 0px 1px 3px 1px rgba(60, 64, 67, 0.15);\n",
              "      fill: #174EA6;\n",
              "    }\n",
              "\n",
              "    .colab-df-buttons div {\n",
              "      margin-bottom: 4px;\n",
              "    }\n",
              "\n",
              "    [theme=dark] .colab-df-convert {\n",
              "      background-color: #3B4455;\n",
              "      fill: #D2E3FC;\n",
              "    }\n",
              "\n",
              "    [theme=dark] .colab-df-convert:hover {\n",
              "      background-color: #434B5C;\n",
              "      box-shadow: 0px 1px 3px 1px rgba(0, 0, 0, 0.15);\n",
              "      filter: drop-shadow(0px 1px 2px rgba(0, 0, 0, 0.3));\n",
              "      fill: #FFFFFF;\n",
              "    }\n",
              "  </style>\n",
              "\n",
              "    <script>\n",
              "      const buttonEl =\n",
              "        document.querySelector('#df-cb07dab3-2f6e-4f47-83fc-ca868adb5493 button.colab-df-convert');\n",
              "      buttonEl.style.display =\n",
              "        google.colab.kernel.accessAllowed ? 'block' : 'none';\n",
              "\n",
              "      async function convertToInteractive(key) {\n",
              "        const element = document.querySelector('#df-cb07dab3-2f6e-4f47-83fc-ca868adb5493');\n",
              "        const dataTable =\n",
              "          await google.colab.kernel.invokeFunction('convertToInteractive',\n",
              "                                                    [key], {});\n",
              "        if (!dataTable) return;\n",
              "\n",
              "        const docLinkHtml = 'Like what you see? Visit the ' +\n",
              "          '<a target=\"_blank\" href=https://colab.research.google.com/notebooks/data_table.ipynb>data table notebook</a>'\n",
              "          + ' to learn more about interactive tables.';\n",
              "        element.innerHTML = '';\n",
              "        dataTable['output_type'] = 'display_data';\n",
              "        await google.colab.output.renderOutput(dataTable, element);\n",
              "        const docLink = document.createElement('div');\n",
              "        docLink.innerHTML = docLinkHtml;\n",
              "        element.appendChild(docLink);\n",
              "      }\n",
              "    </script>\n",
              "  </div>\n",
              "\n",
              "\n",
              "    <div id=\"df-58ed920c-c235-474e-8285-aa308723e876\">\n",
              "      <button class=\"colab-df-quickchart\" onclick=\"quickchart('df-58ed920c-c235-474e-8285-aa308723e876')\"\n",
              "                title=\"Suggest charts\"\n",
              "                style=\"display:none;\">\n",
              "\n",
              "<svg xmlns=\"http://www.w3.org/2000/svg\" height=\"24px\"viewBox=\"0 0 24 24\"\n",
              "     width=\"24px\">\n",
              "    <g>\n",
              "        <path d=\"M19 3H5c-1.1 0-2 .9-2 2v14c0 1.1.9 2 2 2h14c1.1 0 2-.9 2-2V5c0-1.1-.9-2-2-2zM9 17H7v-7h2v7zm4 0h-2V7h2v10zm4 0h-2v-4h2v4z\"/>\n",
              "    </g>\n",
              "</svg>\n",
              "      </button>\n",
              "\n",
              "<style>\n",
              "  .colab-df-quickchart {\n",
              "      --bg-color: #E8F0FE;\n",
              "      --fill-color: #1967D2;\n",
              "      --hover-bg-color: #E2EBFA;\n",
              "      --hover-fill-color: #174EA6;\n",
              "      --disabled-fill-color: #AAA;\n",
              "      --disabled-bg-color: #DDD;\n",
              "  }\n",
              "\n",
              "  [theme=dark] .colab-df-quickchart {\n",
              "      --bg-color: #3B4455;\n",
              "      --fill-color: #D2E3FC;\n",
              "      --hover-bg-color: #434B5C;\n",
              "      --hover-fill-color: #FFFFFF;\n",
              "      --disabled-bg-color: #3B4455;\n",
              "      --disabled-fill-color: #666;\n",
              "  }\n",
              "\n",
              "  .colab-df-quickchart {\n",
              "    background-color: var(--bg-color);\n",
              "    border: none;\n",
              "    border-radius: 50%;\n",
              "    cursor: pointer;\n",
              "    display: none;\n",
              "    fill: var(--fill-color);\n",
              "    height: 32px;\n",
              "    padding: 0;\n",
              "    width: 32px;\n",
              "  }\n",
              "\n",
              "  .colab-df-quickchart:hover {\n",
              "    background-color: var(--hover-bg-color);\n",
              "    box-shadow: 0 1px 2px rgba(60, 64, 67, 0.3), 0 1px 3px 1px rgba(60, 64, 67, 0.15);\n",
              "    fill: var(--button-hover-fill-color);\n",
              "  }\n",
              "\n",
              "  .colab-df-quickchart-complete:disabled,\n",
              "  .colab-df-quickchart-complete:disabled:hover {\n",
              "    background-color: var(--disabled-bg-color);\n",
              "    fill: var(--disabled-fill-color);\n",
              "    box-shadow: none;\n",
              "  }\n",
              "\n",
              "  .colab-df-spinner {\n",
              "    border: 2px solid var(--fill-color);\n",
              "    border-color: transparent;\n",
              "    border-bottom-color: var(--fill-color);\n",
              "    animation:\n",
              "      spin 1s steps(1) infinite;\n",
              "  }\n",
              "\n",
              "  @keyframes spin {\n",
              "    0% {\n",
              "      border-color: transparent;\n",
              "      border-bottom-color: var(--fill-color);\n",
              "      border-left-color: var(--fill-color);\n",
              "    }\n",
              "    20% {\n",
              "      border-color: transparent;\n",
              "      border-left-color: var(--fill-color);\n",
              "      border-top-color: var(--fill-color);\n",
              "    }\n",
              "    30% {\n",
              "      border-color: transparent;\n",
              "      border-left-color: var(--fill-color);\n",
              "      border-top-color: var(--fill-color);\n",
              "      border-right-color: var(--fill-color);\n",
              "    }\n",
              "    40% {\n",
              "      border-color: transparent;\n",
              "      border-right-color: var(--fill-color);\n",
              "      border-top-color: var(--fill-color);\n",
              "    }\n",
              "    60% {\n",
              "      border-color: transparent;\n",
              "      border-right-color: var(--fill-color);\n",
              "    }\n",
              "    80% {\n",
              "      border-color: transparent;\n",
              "      border-right-color: var(--fill-color);\n",
              "      border-bottom-color: var(--fill-color);\n",
              "    }\n",
              "    90% {\n",
              "      border-color: transparent;\n",
              "      border-bottom-color: var(--fill-color);\n",
              "    }\n",
              "  }\n",
              "</style>\n",
              "\n",
              "      <script>\n",
              "        async function quickchart(key) {\n",
              "          const quickchartButtonEl =\n",
              "            document.querySelector('#' + key + ' button');\n",
              "          quickchartButtonEl.disabled = true;  // To prevent multiple clicks.\n",
              "          quickchartButtonEl.classList.add('colab-df-spinner');\n",
              "          try {\n",
              "            const charts = await google.colab.kernel.invokeFunction(\n",
              "                'suggestCharts', [key], {});\n",
              "          } catch (error) {\n",
              "            console.error('Error during call to suggestCharts:', error);\n",
              "          }\n",
              "          quickchartButtonEl.classList.remove('colab-df-spinner');\n",
              "          quickchartButtonEl.classList.add('colab-df-quickchart-complete');\n",
              "        }\n",
              "        (() => {\n",
              "          let quickchartButtonEl =\n",
              "            document.querySelector('#df-58ed920c-c235-474e-8285-aa308723e876 button');\n",
              "          quickchartButtonEl.style.display =\n",
              "            google.colab.kernel.accessAllowed ? 'block' : 'none';\n",
              "        })();\n",
              "      </script>\n",
              "    </div>\n",
              "\n",
              "    </div>\n",
              "  </div>\n"
            ],
            "application/vnd.google.colaboratory.intrinsic+json": {
              "type": "dataframe",
              "summary": "{\n  \"name\": \"df\",\n  \"rows\": 4,\n  \"fields\": [\n    {\n      \"column\": \"Author_Rating\",\n      \"properties\": {\n        \"dtype\": \"string\",\n        \"num_unique_values\": 4,\n        \"samples\": [\n          \"Famous\",\n          \"Novice\",\n          \"Excellent\"\n        ],\n        \"semantic_type\": \"\",\n        \"description\": \"\"\n      }\n    },\n    {\n      \"column\": \"count\",\n      \"properties\": {\n        \"dtype\": \"number\",\n        \"std\": 260.47824605265345,\n        \"min\": 28.0,\n        \"max\": 576.0,\n        \"num_unique_values\": 4,\n        \"samples\": [\n          48.0,\n          28.0,\n          335.0\n        ],\n        \"semantic_type\": \"\",\n        \"description\": \"\"\n      }\n    },\n    {\n      \"column\": \"mean\",\n      \"properties\": {\n        \"dtype\": \"number\",\n        \"std\": 8454.316491776775,\n        \"min\": 83841.97014925373,\n        \"max\": 101400.27256944444,\n        \"num_unique_values\": 4,\n        \"samples\": [\n          98295.25,\n          87318.46428571429,\n          83841.97014925373\n        ],\n        \"semantic_type\": \"\",\n        \"description\": \"\"\n      }\n    },\n    {\n      \"column\": \"std\",\n      \"properties\": {\n        \"dtype\": \"number\",\n        \"std\": 6421.62994824434,\n        \"min\": 21043.845092154133,\n        \"max\": 35036.475143617994,\n        \"num_unique_values\": 4,\n        \"samples\": [\n          35036.475143617994,\n          30859.612388629495,\n          21043.845092154133\n        ],\n        \"semantic_type\": \"\",\n        \"description\": \"\"\n      }\n    },\n    {\n      \"column\": \"min\",\n      \"properties\": {\n        \"dtype\": \"number\",\n        \"std\": 12156.665729823562,\n        \"min\": 27308.0,\n        \"max\": 54977.0,\n        \"num_unique_values\": 4,\n        \"samples\": [\n          54977.0,\n          42339.0,\n          32626.0\n        ],\n        \"semantic_type\": \"\",\n        \"description\": \"\"\n      }\n    },\n    {\n      \"column\": \"25%\",\n      \"properties\": {\n        \"dtype\": \"number\",\n        \"std\": 4418.258181021868,\n        \"min\": 63638.25,\n        \"max\": 72968.25,\n        \"num_unique_values\": 4,\n        \"samples\": [\n          72968.25,\n          63638.25,\n          68849.5\n        ],\n        \"semantic_type\": \"\",\n        \"description\": \"\"\n      }\n    },\n    {\n      \"column\": \"50%\",\n      \"properties\": {\n        \"dtype\": \"number\",\n        \"std\": 9296.967287777235,\n        \"min\": 77446.5,\n        \"max\": 98254.5,\n        \"num_unique_values\": 4,\n        \"samples\": [\n          90527.0,\n          77446.5,\n          81621.0\n        ],\n        \"semantic_type\": \"\",\n        \"description\": \"\"\n      }\n    },\n    {\n      \"column\": \"75%\",\n      \"properties\": {\n        \"dtype\": \"number\",\n        \"std\": 11902.711344654488,\n        \"min\": 97507.5,\n        \"max\": 125439.25,\n        \"num_unique_values\": 4,\n        \"samples\": [\n          113070.5,\n          105349.25,\n          97507.5\n        ],\n        \"semantic_type\": \"\",\n        \"description\": \"\"\n      }\n    },\n    {\n      \"column\": \"max\",\n      \"properties\": {\n        \"dtype\": \"number\",\n        \"std\": 24589.470000727277,\n        \"min\": 155903.0,\n        \"max\": 206792.0,\n        \"num_unique_values\": 4,\n        \"samples\": [\n          206792.0,\n          155903.0,\n          167848.0\n        ],\n        \"semantic_type\": \"\",\n        \"description\": \"\"\n      }\n    }\n  ]\n}"
            }
          },
          "metadata": {},
          "execution_count": 158
        }
      ]
    },
    {
      "cell_type": "code",
      "source": [
        "plt.scatter(df['Book_average_rating'], df['Book_ratings_count'])\n",
        "plt.xlabel(\"book rating\")\n",
        "plt.ylabel(\"rating count\")"
      ],
      "metadata": {
        "colab": {
          "base_uri": "https://localhost:8080/",
          "height": 466
        },
        "id": "EV50WTp2oHS9",
        "outputId": "0f957d57-207a-45c1-eb9e-e37f8b65c10f"
      },
      "execution_count": null,
      "outputs": [
        {
          "output_type": "execute_result",
          "data": {
            "text/plain": [
              "Text(0, 0.5, 'rating count')"
            ]
          },
          "metadata": {},
          "execution_count": 102
        },
        {
          "output_type": "display_data",
          "data": {
            "text/plain": [
              "<Figure size 640x480 with 1 Axes>"
            ],
            "image/png": "[encoded data removed]"
          },
          "metadata": {}
        }
      ]
    },
    {
      "cell_type": "markdown",
      "source": [
        "## 11. Most books with a rating of around 4 have been rated by 50,000 to 100,000 people, with some outliers going higher."
      ],
      "metadata": {
        "id": "1A3LI5rBoA7z"
      }
    },
    {
      "cell_type": "code",
      "source": [
        "author_sales = df.groupby('Author')['gross sales'].sum().sort_values(ascending=False)\n",
        "author_sales"
      ],
      "metadata": {
        "colab": {
          "base_uri": "https://localhost:8080/",
          "height": 489
        },
        "id": "7y_raS_0ri7o",
        "outputId": "e279ea0f-09ae-4c8f-df88-526fea16b691"
      },
      "execution_count": 165,
      "outputs": [
        {
          "output_type": "execute_result",
          "data": {
            "text/plain": [
              "Author\n",
              "Harper Lee                         47795.00\n",
              "Stephen King                       43322.65\n",
              "David Sedaris                      42323.41\n",
              "Charlaine Harris                   39453.08\n",
              "Laini Taylor                       38278.41\n",
              "                                     ...   \n",
              "Guillermo del Toro, Chuck Hogan      107.91\n",
              "Ayaan Hirsi Ali                      107.91\n",
              "Walter M. Miller Jr.                 106.92\n",
              "Michael Shaara                       105.93\n",
              "Blake Crouch                         105.93\n",
              "Name: gross sales, Length: 668, dtype: float64"
            ],
            "text/html": [
              "<div>\n",
              "<style scoped>\n",
              "    .dataframe tbody tr th:only-of-type {\n",
              "        vertical-align: middle;\n",
              "    }\n",
              "\n",
              "    .dataframe tbody tr th {\n",
              "        vertical-align: top;\n",
              "    }\n",
              "\n",
              "    .dataframe thead th {\n",
              "        text-align: right;\n",
              "    }\n",
              "</style>\n",
              "<table border=\"1\" class=\"dataframe\">\n",
              "  <thead>\n",
              "    <tr style=\"text-align: right;\">\n",
              "      <th></th>\n",
              "      <th>gross sales</th>\n",
              "    </tr>\n",
              "    <tr>\n",
              "      <th>Author</th>\n",
              "      <th></th>\n",
              "    </tr>\n",
              "  </thead>\n",
              "  <tbody>\n",
              "    <tr>\n",
              "      <th>Harper Lee</th>\n",
              "      <td>47795.00</td>\n",
              "    </tr>\n",
              "    <tr>\n",
              "      <th>Stephen King</th>\n",
              "      <td>43322.65</td>\n",
              "    </tr>\n",
              "    <tr>\n",
              "      <th>David Sedaris</th>\n",
              "      <td>42323.41</td>\n",
              "    </tr>\n",
              "    <tr>\n",
              "      <th>Charlaine Harris</th>\n",
              "      <td>39453.08</td>\n",
              "    </tr>\n",
              "    <tr>\n",
              "      <th>Laini Taylor</th>\n",
              "      <td>38278.41</td>\n",
              "    </tr>\n",
              "    <tr>\n",
              "      <th>...</th>\n",
              "      <td>...</td>\n",
              "    </tr>\n",
              "    <tr>\n",
              "      <th>Guillermo del Toro, Chuck Hogan</th>\n",
              "      <td>107.91</td>\n",
              "    </tr>\n",
              "    <tr>\n",
              "      <th>Ayaan Hirsi Ali</th>\n",
              "      <td>107.91</td>\n",
              "    </tr>\n",
              "    <tr>\n",
              "      <th>Walter M. Miller Jr.</th>\n",
              "      <td>106.92</td>\n",
              "    </tr>\n",
              "    <tr>\n",
              "      <th>Michael Shaara</th>\n",
              "      <td>105.93</td>\n",
              "    </tr>\n",
              "    <tr>\n",
              "      <th>Blake Crouch</th>\n",
              "      <td>105.93</td>\n",
              "    </tr>\n",
              "  </tbody>\n",
              "</table>\n",
              "<p>668 rows × 1 columns</p>\n",
              "</div><br><label><b>dtype:</b> float64</label>"
            ]
          },
          "metadata": {},
          "execution_count": 165
        }
      ]
    },
    {
      "cell_type": "code",
      "source": [
        "author_sales = df.groupby('Author')['gross sales'].sum().sort_values(ascending=False)\n",
        "author_sales.head(20).plot(kind='bar')\n",
        "plt.xlabel(\"Author\")\n",
        "plt.ylabel(\"total gross sales\")"
      ],
      "metadata": {
        "colab": {
          "base_uri": "https://localhost:8080/",
          "height": 768
        },
        "id": "83rGXWGPphsz",
        "outputId": "c577729c-8bb5-4d91-cf41-b74fb7b2a6a3"
      },
      "execution_count": 166,
      "outputs": [
        {
          "output_type": "execute_result",
          "data": {
            "text/plain": [
              "Text(0, 0.5, 'total gross sales')"
            ]
          },
          "metadata": {},
          "execution_count": 166
        },
        {
          "output_type": "display_data",
          "data": {
            "text/plain": [
              "<Figure size 640x480 with 1 Axes>"
            ],
            "image/png": "[encoded data removed]"
          },
          "metadata": {}
        }
      ]
    },
    {
      "cell_type": "markdown",
      "source": [
        "## 12. max gross sale is of Harper Lee"
      ],
      "metadata": {
        "id": "h6lGZLE3roij"
      }
    },
    {
      "cell_type": "code",
      "source": [
        "df.groupby(\"Author_Rating\")[\"units sold\"].sum().sort_values(ascending=False)"
      ],
      "metadata": {
        "colab": {
          "base_uri": "https://localhost:8080/",
          "height": 241
        },
        "id": "mvRMdS6kqVsw",
        "outputId": "9e07b033-d769-4ea5-fdee-ddb5ee40a5a9"
      },
      "execution_count": 167,
      "outputs": [
        {
          "output_type": "execute_result",
          "data": {
            "text/plain": [
              "Author_Rating\n",
              "Intermediate    4726167\n",
              "Excellent       4466354\n",
              "Famous           336772\n",
              "Novice           211688\n",
              "Name: units sold, dtype: int64"
            ],
            "text/html": [
              "<div>\n",
              "<style scoped>\n",
              "    .dataframe tbody tr th:only-of-type {\n",
              "        vertical-align: middle;\n",
              "    }\n",
              "\n",
              "    .dataframe tbody tr th {\n",
              "        vertical-align: top;\n",
              "    }\n",
              "\n",
              "    .dataframe thead th {\n",
              "        text-align: right;\n",
              "    }\n",
              "</style>\n",
              "<table border=\"1\" class=\"dataframe\">\n",
              "  <thead>\n",
              "    <tr style=\"text-align: right;\">\n",
              "      <th></th>\n",
              "      <th>units sold</th>\n",
              "    </tr>\n",
              "    <tr>\n",
              "      <th>Author_Rating</th>\n",
              "      <th></th>\n",
              "    </tr>\n",
              "  </thead>\n",
              "  <tbody>\n",
              "    <tr>\n",
              "      <th>Intermediate</th>\n",
              "      <td>4726167</td>\n",
              "    </tr>\n",
              "    <tr>\n",
              "      <th>Excellent</th>\n",
              "      <td>4466354</td>\n",
              "    </tr>\n",
              "    <tr>\n",
              "      <th>Famous</th>\n",
              "      <td>336772</td>\n",
              "    </tr>\n",
              "    <tr>\n",
              "      <th>Novice</th>\n",
              "      <td>211688</td>\n",
              "    </tr>\n",
              "  </tbody>\n",
              "</table>\n",
              "</div><br><label><b>dtype:</b> int64</label>"
            ]
          },
          "metadata": {},
          "execution_count": 167
        }
      ]
    },
    {
      "cell_type": "code",
      "source": [
        "sns.catplot(data=df, x='Author_Rating', y='units sold', kind = 'box', hue='Author_Rating')"
      ],
      "metadata": {
        "colab": {
          "base_uri": "https://localhost:8080/",
          "height": 524
        },
        "id": "CkoLeZCqrxXV",
        "outputId": "f801fd7b-b2ef-4bc5-8578-1f44ff5120d6"
      },
      "execution_count": 168,
      "outputs": [
        {
          "output_type": "execute_result",
          "data": {
            "text/plain": [
              "<seaborn.axisgrid.FacetGrid at 0x7ef610694790>"
            ]
          },
          "metadata": {},
          "execution_count": 168
        },
        {
          "output_type": "display_data",
          "data": {
            "text/plain": [
              "<Figure size 500x500 with 1 Axes>"
            ],
            "image/png": "[encoded data removed]"
          },
          "metadata": {}
        }
      ]
    },
    {
      "cell_type": "markdown",
      "source": [
        "## 13. Maximum books were sold of Author with 'excellent' as rating"
      ],
      "metadata": {
        "id": "SUYkVxm-sms3"
      }
    },
    {
      "cell_type": "code",
      "source": [
        "plt.figure(figsize=(12,6))\n",
        "df.groupby('Publishing Year')['units sold'].sum().plot(kind = 'line', marker = 'o')\n",
        "plt.xlabel(\"Publishing year\")\n",
        "plt.ylabel(\"No.of units sold\")\n",
        "plt.title(\"Total units sold over the years\")"
      ],
      "metadata": {
        "colab": {
          "base_uri": "https://localhost:8080/",
          "height": 581
        },
        "id": "DztGU7bxtF0s",
        "outputId": "e15d3c26-6c23-4f14-e495-27f29682761d"
      },
      "execution_count": 169,
      "outputs": [
        {
          "output_type": "execute_result",
          "data": {
            "text/plain": [
              "Text(0.5, 1.0, 'Total units sold over the years')"
            ]
          },
          "metadata": {},
          "execution_count": 169
        },
        {
          "output_type": "display_data",
          "data": {
            "text/plain": [
              "<Figure size 1200x600 with 1 Axes>"
            ],
            "image/png": "[encoded data removed]"
          },
          "metadata": {}
        }
      ]
    },
    {
      "cell_type": "code",
      "source": [
        "df['Publishing Year'].nunique()"
      ],
      "metadata": {
        "colab": {
          "base_uri": "https://localhost:8080/"
        },
        "id": "BfKmEdx1t4FP",
        "outputId": "7b0450cb-bc88-4e83-c570-fb524d3ce160"
      },
      "execution_count": 170,
      "outputs": [
        {
          "output_type": "execute_result",
          "data": {
            "text/plain": [
              "101"
            ]
          },
          "metadata": {},
          "execution_count": 170
        }
      ]
    },
    {
      "cell_type": "code",
      "source": [
        "df.groupby('genre')['units sold'].sum().sort_values(ascending=False)"
      ],
      "metadata": {
        "colab": {
          "base_uri": "https://localhost:8080/",
          "height": 209
        },
        "id": "V8uIP5qWuOtk",
        "outputId": "1be4725c-78c6-41a3-a261-3da87eb534db"
      },
      "execution_count": 171,
      "outputs": [
        {
          "output_type": "execute_result",
          "data": {
            "text/plain": [
              "genre\n",
              "fiction       7876524\n",
              "nonfiction    1566339\n",
              "children       298118\n",
              "Name: units sold, dtype: int64"
            ],
            "text/html": [
              "<div>\n",
              "<style scoped>\n",
              "    .dataframe tbody tr th:only-of-type {\n",
              "        vertical-align: middle;\n",
              "    }\n",
              "\n",
              "    .dataframe tbody tr th {\n",
              "        vertical-align: top;\n",
              "    }\n",
              "\n",
              "    .dataframe thead th {\n",
              "        text-align: right;\n",
              "    }\n",
              "</style>\n",
              "<table border=\"1\" class=\"dataframe\">\n",
              "  <thead>\n",
              "    <tr style=\"text-align: right;\">\n",
              "      <th></th>\n",
              "      <th>units sold</th>\n",
              "    </tr>\n",
              "    <tr>\n",
              "      <th>genre</th>\n",
              "      <th></th>\n",
              "    </tr>\n",
              "  </thead>\n",
              "  <tbody>\n",
              "    <tr>\n",
              "      <th>fiction</th>\n",
              "      <td>7876524</td>\n",
              "    </tr>\n",
              "    <tr>\n",
              "      <th>nonfiction</th>\n",
              "      <td>1566339</td>\n",
              "    </tr>\n",
              "    <tr>\n",
              "      <th>children</th>\n",
              "      <td>298118</td>\n",
              "    </tr>\n",
              "  </tbody>\n",
              "</table>\n",
              "</div><br><label><b>dtype:</b> int64</label>"
            ]
          },
          "metadata": {},
          "execution_count": 171
        }
      ]
    },
    {
      "cell_type": "code",
      "source": [
        "df['genre'].unique()"
      ],
      "metadata": {
        "colab": {
          "base_uri": "https://localhost:8080/"
        },
        "id": "GHS6W3gyvm-j",
        "outputId": "d5460249-ed18-4061-96d8-57a6b5e49a01"
      },
      "execution_count": 172,
      "outputs": [
        {
          "output_type": "execute_result",
          "data": {
            "text/plain": [
              "array(['fiction', 'nonfiction', 'children'], dtype=object)"
            ]
          },
          "metadata": {},
          "execution_count": 172
        }
      ]
    },
    {
      "cell_type": "code",
      "source": [
        "gen_f = df[df['genre'] == 'fiction']\n",
        "gen_nf = df[df['genre'] == 'nonfiction']\n",
        "gen_c = df[df['genre'] == 'children']"
      ],
      "metadata": {
        "id": "AfDt-rK4xEsV"
      },
      "execution_count": 173,
      "outputs": []
    },
    {
      "cell_type": "code",
      "source": [
        "plt.figure(figsize = (12,6))\n",
        "\n",
        "gen_f.groupby(\"Publishing Year\")['units sold'].sum().plot(kind = 'line', marker = 'o', color = 'blue', label='fiction')\n",
        "gen_nf.groupby(\"Publishing Year\")['units sold'].sum().plot(kind = 'line', marker = 'o', color = 'orange', label='non fiction')\n",
        "gen_c.groupby(\"Publishing Year\")['units sold'].sum().plot(kind = 'line', marker = 'o', color = 'purple', label='children')\n",
        "\n",
        "plt.xlabel(\"Publishing year\")\n",
        "plt.ylabel(\"units sold\")\n",
        "plt.title(\"No.of units sold over years\")\n",
        "\n",
        "plt.legend()"
      ],
      "metadata": {
        "colab": {
          "base_uri": "https://localhost:8080/",
          "height": 581
        },
        "id": "0CmzkmhVxTqp",
        "outputId": "afc613d2-284b-4727-d832-ee82613cf099"
      },
      "execution_count": 177,
      "outputs": [
        {
          "output_type": "execute_result",
          "data": {
            "text/plain": [
              "<matplotlib.legend.Legend at 0x7ef60ee6b2d0>"
            ]
          },
          "metadata": {},
          "execution_count": 177
        },
        {
          "output_type": "display_data",
          "data": {
            "text/plain": [
              "<Figure size 1200x600 with 1 Axes>"
            ],
            "image/png": "[encoded data removed]"
          },
          "metadata": {}
        }
      ]
    },
    {
      "cell_type": "markdown",
      "source": [
        "## 14. Above is a line plot for all 4 genres displaying about units sold over years"
      ],
      "metadata": {
        "id": "75-rsm_f0cJE"
      }
    },
    {
      "cell_type": "markdown",
      "source": [
        "# FINAL CONCLUSION"
      ],
      "metadata": {
        "id": "wtJZXIjXzrIn"
      }
    },
    {
      "cell_type": "markdown",
      "source": [
        "##\"Fiction books in the English language, especially those published by Amazon and Penguin, dominate the market in terms of quantity, ratings, and units sold — revealing a strong reader preference and industry focus over time.\""
      ],
      "metadata": {
        "id": "TDwlENshzvB3"
      }
    }
  ]
}